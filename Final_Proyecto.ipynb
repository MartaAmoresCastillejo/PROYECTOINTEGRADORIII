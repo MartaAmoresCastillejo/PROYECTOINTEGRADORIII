{
  "nbformat": 4,
  "nbformat_minor": 0,
  "metadata": {
    "colab": {
      "provenance": [],
      "collapsed_sections": [
        "3LniJGlgmanO",
        "unSPVWAAZl9I",
        "G7DcuYKOOzjO",
        "KBmOBPivbZyq",
        "PXcKcFX5duBq",
        "F_obSdwAhWdW",
        "tBIWglc79I64",
        "zf5WBRvdn6sJ"
      ],
      "authorship_tag": "ABX9TyNsCdRiJ6fSoq2InqsL/DKS",
      "include_colab_link": true
    },
    "kernelspec": {
      "name": "python3",
      "display_name": "Python 3"
    },
    "language_info": {
      "name": "python"
    }
  },
  "cells": [
    {
      "cell_type": "markdown",
      "metadata": {
        "id": "view-in-github",
        "colab_type": "text"
      },
      "source": [
        "<a href=\"https://colab.research.google.com/github/MartaAmoresCastillejo/PROYECTOINTEGRADORIII/blob/main/Final_Proyecto.ipynb\" target=\"_parent\"><img src=\"https://colab.research.google.com/assets/colab-badge.svg\" alt=\"Open In Colab\"/></a>"
      ]
    },
    {
      "cell_type": "markdown",
      "source": [
        "# Predicción de habitaciones de hoteles"
      ],
      "metadata": {
        "id": "3LniJGlgmanO"
      }
    },
    {
      "cell_type": "code",
      "execution_count": 71,
      "metadata": {
        "id": "L5BGEp-hRiLR"
      },
      "outputs": [],
      "source": [
        "import pandas as pd\n",
        "from sklearn.model_selection import train_test_split\n",
        "import matplotlib.pyplot as plt\n",
        "import seaborn as sns\n",
        "from sklearn.model_selection import train_test_split\n",
        "from sklearn.preprocessing import StandardScaler, LabelEncoder, OneHotEncoder\n",
        "%matplotlib inline\n",
        "plt.style.use('fivethirtyeight')"
      ]
    },
    {
      "cell_type": "code",
      "source": [
        "!pip install Faker\n",
        "!pip install names\n"
      ],
      "metadata": {
        "colab": {
          "base_uri": "https://localhost:8080/"
        },
        "id": "2GPUrc7XRu8A",
        "outputId": "51da5612-c5a3-410d-acc3-8cb71897823b"
      },
      "execution_count": 72,
      "outputs": [
        {
          "output_type": "stream",
          "name": "stdout",
          "text": [
            "Looking in indexes: https://pypi.org/simple, https://us-python.pkg.dev/colab-wheels/public/simple/\n",
            "Requirement already satisfied: Faker in /usr/local/lib/python3.10/dist-packages (18.6.0)\n",
            "Requirement already satisfied: python-dateutil>=2.4 in /usr/local/lib/python3.10/dist-packages (from Faker) (2.8.2)\n",
            "Requirement already satisfied: six>=1.5 in /usr/local/lib/python3.10/dist-packages (from python-dateutil>=2.4->Faker) (1.16.0)\n",
            "Looking in indexes: https://pypi.org/simple, https://us-python.pkg.dev/colab-wheels/public/simple/\n",
            "Requirement already satisfied: names in /usr/local/lib/python3.10/dist-packages (0.3.0)\n"
          ]
        }
      ]
    },
    {
      "cell_type": "code",
      "source": [
        "import pandas as pd\n",
        "import numpy as np\n",
        "from faker import Faker\n",
        "import names"
      ],
      "metadata": {
        "id": "e0fjLaLGRymJ"
      },
      "execution_count": 73,
      "outputs": []
    },
    {
      "cell_type": "code",
      "source": [
        "fake = Faker()\n",
        "\n",
        "num_rows = 2000"
      ],
      "metadata": {
        "id": "35yV9qVLSU03"
      },
      "execution_count": 74,
      "outputs": []
    },
    {
      "cell_type": "code",
      "source": [
        "piscina = np.random.choice([\"NO\", \"SI\"], num_rows)\n",
        "estrellas = np.random.randint(1, 6, num_rows)\n",
        "Kimc = np.random.choice(['MC', 'RC', 'L' ,'ML'], num_rows)\n",
        "resenas = np.random.choice([\"MALO\", \"REGULAR\", \"BUENO\", \"MUY BUENO\"], num_rows)\n",
        "tipocama = np.random.choice(['1D' ,'1D/2I','2I' ,'3I'], num_rows)\n",
        "parking = np.random.choice([\"NO\", \"SI\"], num_rows)\n",
        "met = np.random.randint(0, 120, num_rows)\n",
        "terraza = np.random.choice([\"NO\", \"SI\"], num_rows)\n",
        "puntointeres = np.random.uniform(0, 100, num_rows).astype(float)\n",
        "aire = np.random.choice([\"NO\", \"SI\"], num_rows)\n",
        "wifi = np.random.choice([\"NO\", \"SI\"], num_rows)"
      ],
      "metadata": {
        "id": "SJO0V8E2SqUC"
      },
      "execution_count": 75,
      "outputs": []
    },
    {
      "cell_type": "code",
      "source": [
        "data = pd.DataFrame({\n",
        "    \"Kimc\": Kimc,\n",
        "    \"Punto de interés\": puntointeres,\n",
        "    \"Estrellas\": estrellas,\n",
        "    \"M^2\": met,\n",
        "    \"Tipo de cama\":tipocama, \n",
        "    \"Resenas\": resenas,\n",
        "    \"Piscina\": piscina,\n",
        "    \"Parking\": parking,\n",
        "    \"Terraza\": terraza,\n",
        "    \"Aire\": aire,\n",
        "    \"Wifi\": wifi\n",
        "})"
      ],
      "metadata": {
        "id": "X4LF0irzSyGa"
      },
      "execution_count": 76,
      "outputs": []
    },
    {
      "cell_type": "code",
      "source": [
        "da = data.drop(['Tipo de cama', 'Punto de interés'], axis=1)\n",
        "da"
      ],
      "metadata": {
        "colab": {
          "base_uri": "https://localhost:8080/",
          "height": 411
        },
        "id": "PxseoFuHS4b8",
        "outputId": "85884473-b6de-436a-ffd6-2520a0edc8ca"
      },
      "execution_count": 77,
      "outputs": [
        {
          "output_type": "execute_result",
          "data": {
            "text/plain": [
              "     Kimc  Estrellas  M^2    Resenas Piscina Parking Terraza Aire Wifi\n",
              "0      ML          5   58  MUY BUENO      SI      SI      NO   SI   NO\n",
              "1       L          3   27    REGULAR      SI      NO      SI   SI   NO\n",
              "2      ML          1   44  MUY BUENO      NO      SI      SI   SI   NO\n",
              "3      ML          3   82    REGULAR      SI      SI      SI   NO   SI\n",
              "4      RC          4    9      BUENO      SI      SI      NO   NO   SI\n",
              "...   ...        ...  ...        ...     ...     ...     ...  ...  ...\n",
              "1995    L          4   60       MALO      SI      NO      SI   NO   SI\n",
              "1996   RC          2    6       MALO      NO      NO      SI   NO   NO\n",
              "1997   ML          2   55       MALO      NO      NO      SI   SI   NO\n",
              "1998   RC          2   25  MUY BUENO      NO      NO      NO   SI   SI\n",
              "1999    L          2   10    REGULAR      NO      NO      NO   SI   NO\n",
              "\n",
              "[2000 rows x 9 columns]"
            ],
            "text/html": [
              "\n",
              "  <div id=\"df-debc112a-4fbd-40c1-9c37-ff1a07eb2df8\">\n",
              "    <div class=\"colab-df-container\">\n",
              "      <div>\n",
              "<style scoped>\n",
              "    .dataframe tbody tr th:only-of-type {\n",
              "        vertical-align: middle;\n",
              "    }\n",
              "\n",
              "    .dataframe tbody tr th {\n",
              "        vertical-align: top;\n",
              "    }\n",
              "\n",
              "    .dataframe thead th {\n",
              "        text-align: right;\n",
              "    }\n",
              "</style>\n",
              "<table border=\"1\" class=\"dataframe\">\n",
              "  <thead>\n",
              "    <tr style=\"text-align: right;\">\n",
              "      <th></th>\n",
              "      <th>Kimc</th>\n",
              "      <th>Estrellas</th>\n",
              "      <th>M^2</th>\n",
              "      <th>Resenas</th>\n",
              "      <th>Piscina</th>\n",
              "      <th>Parking</th>\n",
              "      <th>Terraza</th>\n",
              "      <th>Aire</th>\n",
              "      <th>Wifi</th>\n",
              "    </tr>\n",
              "  </thead>\n",
              "  <tbody>\n",
              "    <tr>\n",
              "      <th>0</th>\n",
              "      <td>ML</td>\n",
              "      <td>5</td>\n",
              "      <td>58</td>\n",
              "      <td>MUY BUENO</td>\n",
              "      <td>SI</td>\n",
              "      <td>SI</td>\n",
              "      <td>NO</td>\n",
              "      <td>SI</td>\n",
              "      <td>NO</td>\n",
              "    </tr>\n",
              "    <tr>\n",
              "      <th>1</th>\n",
              "      <td>L</td>\n",
              "      <td>3</td>\n",
              "      <td>27</td>\n",
              "      <td>REGULAR</td>\n",
              "      <td>SI</td>\n",
              "      <td>NO</td>\n",
              "      <td>SI</td>\n",
              "      <td>SI</td>\n",
              "      <td>NO</td>\n",
              "    </tr>\n",
              "    <tr>\n",
              "      <th>2</th>\n",
              "      <td>ML</td>\n",
              "      <td>1</td>\n",
              "      <td>44</td>\n",
              "      <td>MUY BUENO</td>\n",
              "      <td>NO</td>\n",
              "      <td>SI</td>\n",
              "      <td>SI</td>\n",
              "      <td>SI</td>\n",
              "      <td>NO</td>\n",
              "    </tr>\n",
              "    <tr>\n",
              "      <th>3</th>\n",
              "      <td>ML</td>\n",
              "      <td>3</td>\n",
              "      <td>82</td>\n",
              "      <td>REGULAR</td>\n",
              "      <td>SI</td>\n",
              "      <td>SI</td>\n",
              "      <td>SI</td>\n",
              "      <td>NO</td>\n",
              "      <td>SI</td>\n",
              "    </tr>\n",
              "    <tr>\n",
              "      <th>4</th>\n",
              "      <td>RC</td>\n",
              "      <td>4</td>\n",
              "      <td>9</td>\n",
              "      <td>BUENO</td>\n",
              "      <td>SI</td>\n",
              "      <td>SI</td>\n",
              "      <td>NO</td>\n",
              "      <td>NO</td>\n",
              "      <td>SI</td>\n",
              "    </tr>\n",
              "    <tr>\n",
              "      <th>...</th>\n",
              "      <td>...</td>\n",
              "      <td>...</td>\n",
              "      <td>...</td>\n",
              "      <td>...</td>\n",
              "      <td>...</td>\n",
              "      <td>...</td>\n",
              "      <td>...</td>\n",
              "      <td>...</td>\n",
              "      <td>...</td>\n",
              "    </tr>\n",
              "    <tr>\n",
              "      <th>1995</th>\n",
              "      <td>L</td>\n",
              "      <td>4</td>\n",
              "      <td>60</td>\n",
              "      <td>MALO</td>\n",
              "      <td>SI</td>\n",
              "      <td>NO</td>\n",
              "      <td>SI</td>\n",
              "      <td>NO</td>\n",
              "      <td>SI</td>\n",
              "    </tr>\n",
              "    <tr>\n",
              "      <th>1996</th>\n",
              "      <td>RC</td>\n",
              "      <td>2</td>\n",
              "      <td>6</td>\n",
              "      <td>MALO</td>\n",
              "      <td>NO</td>\n",
              "      <td>NO</td>\n",
              "      <td>SI</td>\n",
              "      <td>NO</td>\n",
              "      <td>NO</td>\n",
              "    </tr>\n",
              "    <tr>\n",
              "      <th>1997</th>\n",
              "      <td>ML</td>\n",
              "      <td>2</td>\n",
              "      <td>55</td>\n",
              "      <td>MALO</td>\n",
              "      <td>NO</td>\n",
              "      <td>NO</td>\n",
              "      <td>SI</td>\n",
              "      <td>SI</td>\n",
              "      <td>NO</td>\n",
              "    </tr>\n",
              "    <tr>\n",
              "      <th>1998</th>\n",
              "      <td>RC</td>\n",
              "      <td>2</td>\n",
              "      <td>25</td>\n",
              "      <td>MUY BUENO</td>\n",
              "      <td>NO</td>\n",
              "      <td>NO</td>\n",
              "      <td>NO</td>\n",
              "      <td>SI</td>\n",
              "      <td>SI</td>\n",
              "    </tr>\n",
              "    <tr>\n",
              "      <th>1999</th>\n",
              "      <td>L</td>\n",
              "      <td>2</td>\n",
              "      <td>10</td>\n",
              "      <td>REGULAR</td>\n",
              "      <td>NO</td>\n",
              "      <td>NO</td>\n",
              "      <td>NO</td>\n",
              "      <td>SI</td>\n",
              "      <td>NO</td>\n",
              "    </tr>\n",
              "  </tbody>\n",
              "</table>\n",
              "<p>2000 rows × 9 columns</p>\n",
              "</div>\n",
              "      <button class=\"colab-df-convert\" onclick=\"convertToInteractive('df-debc112a-4fbd-40c1-9c37-ff1a07eb2df8')\"\n",
              "              title=\"Convert this dataframe to an interactive table.\"\n",
              "              style=\"display:none;\">\n",
              "        \n",
              "  <svg xmlns=\"http://www.w3.org/2000/svg\" height=\"24px\"viewBox=\"0 0 24 24\"\n",
              "       width=\"24px\">\n",
              "    <path d=\"M0 0h24v24H0V0z\" fill=\"none\"/>\n",
              "    <path d=\"M18.56 5.44l.94 2.06.94-2.06 2.06-.94-2.06-.94-.94-2.06-.94 2.06-2.06.94zm-11 1L8.5 8.5l.94-2.06 2.06-.94-2.06-.94L8.5 2.5l-.94 2.06-2.06.94zm10 10l.94 2.06.94-2.06 2.06-.94-2.06-.94-.94-2.06-.94 2.06-2.06.94z\"/><path d=\"M17.41 7.96l-1.37-1.37c-.4-.4-.92-.59-1.43-.59-.52 0-1.04.2-1.43.59L10.3 9.45l-7.72 7.72c-.78.78-.78 2.05 0 2.83L4 21.41c.39.39.9.59 1.41.59.51 0 1.02-.2 1.41-.59l7.78-7.78 2.81-2.81c.8-.78.8-2.07 0-2.86zM5.41 20L4 18.59l7.72-7.72 1.47 1.35L5.41 20z\"/>\n",
              "  </svg>\n",
              "      </button>\n",
              "      \n",
              "  <style>\n",
              "    .colab-df-container {\n",
              "      display:flex;\n",
              "      flex-wrap:wrap;\n",
              "      gap: 12px;\n",
              "    }\n",
              "\n",
              "    .colab-df-convert {\n",
              "      background-color: #E8F0FE;\n",
              "      border: none;\n",
              "      border-radius: 50%;\n",
              "      cursor: pointer;\n",
              "      display: none;\n",
              "      fill: #1967D2;\n",
              "      height: 32px;\n",
              "      padding: 0 0 0 0;\n",
              "      width: 32px;\n",
              "    }\n",
              "\n",
              "    .colab-df-convert:hover {\n",
              "      background-color: #E2EBFA;\n",
              "      box-shadow: 0px 1px 2px rgba(60, 64, 67, 0.3), 0px 1px 3px 1px rgba(60, 64, 67, 0.15);\n",
              "      fill: #174EA6;\n",
              "    }\n",
              "\n",
              "    [theme=dark] .colab-df-convert {\n",
              "      background-color: #3B4455;\n",
              "      fill: #D2E3FC;\n",
              "    }\n",
              "\n",
              "    [theme=dark] .colab-df-convert:hover {\n",
              "      background-color: #434B5C;\n",
              "      box-shadow: 0px 1px 3px 1px rgba(0, 0, 0, 0.15);\n",
              "      filter: drop-shadow(0px 1px 2px rgba(0, 0, 0, 0.3));\n",
              "      fill: #FFFFFF;\n",
              "    }\n",
              "  </style>\n",
              "\n",
              "      <script>\n",
              "        const buttonEl =\n",
              "          document.querySelector('#df-debc112a-4fbd-40c1-9c37-ff1a07eb2df8 button.colab-df-convert');\n",
              "        buttonEl.style.display =\n",
              "          google.colab.kernel.accessAllowed ? 'block' : 'none';\n",
              "\n",
              "        async function convertToInteractive(key) {\n",
              "          const element = document.querySelector('#df-debc112a-4fbd-40c1-9c37-ff1a07eb2df8');\n",
              "          const dataTable =\n",
              "            await google.colab.kernel.invokeFunction('convertToInteractive',\n",
              "                                                     [key], {});\n",
              "          if (!dataTable) return;\n",
              "\n",
              "          const docLinkHtml = 'Like what you see? Visit the ' +\n",
              "            '<a target=\"_blank\" href=https://colab.research.google.com/notebooks/data_table.ipynb>data table notebook</a>'\n",
              "            + ' to learn more about interactive tables.';\n",
              "          element.innerHTML = '';\n",
              "          dataTable['output_type'] = 'display_data';\n",
              "          await google.colab.output.renderOutput(dataTable, element);\n",
              "          const docLink = document.createElement('div');\n",
              "          docLink.innerHTML = docLinkHtml;\n",
              "          element.appendChild(docLink);\n",
              "        }\n",
              "      </script>\n",
              "    </div>\n",
              "  </div>\n",
              "  "
            ]
          },
          "metadata": {},
          "execution_count": 77
        }
      ]
    },
    {
      "cell_type": "code",
      "source": [
        "import random\n",
        "import pandas as pd\n",
        "\n",
        "# función para asignar valor aleatorio\n",
        "def asignar_valor(row):\n",
        "    if  row['Estrellas'] == 5 and pd.to_numeric(row['M^2']) >= 150:     \n",
        "        precio = random.randint(300, 500)\n",
        "        print(f\"Se asignó un precio aleatorio de {precio} a la fila {row.name}\")\n",
        "        return precio\n",
        "    if  row['Estrellas'] == 5 and row['Resenas'] in ['BUENO', 'MUY BUENO'] and row['Kimc'] in ['MC', 'RC'] and pd.to_numeric(row['M^2']) >= 80 and row['Piscina'] in [ 'SI'] and row['Parking'] in ['SI'] and row['Aire'] in ['SI'] and row['Wifi'] in ['SI']:        \n",
        "        precio = random.randint(120, 170)\n",
        "       # print(f\"Se asignó un precio aleatorio de {precio} a la fila {row.name}\")\n",
        "        return precio\n",
        "    if  row['Estrellas'] == 5 and row['Resenas'] in ['BUENO', 'MUY BUENO'] and row['Kimc'] in ['MC', 'RC'] and pd.to_numeric(row['M^2']) <= 60 and row['Piscina'] in [ 'NO','SI'] and row['Parking'] in ['NO','SI'] and row['Aire'] in ['SI'] and row['Wifi'] in ['SI']:        \n",
        "        precio = random.randint(120, 170)\n",
        "       # print(f\"Se asignó un precio aleatorio de {precio} a la fila {row.name}\")\n",
        "        return precio\n",
        "    if  row['Estrellas'] == 5 and row['Resenas'] in ['MUY BUENO'] and row['Kimc'] in ['ML', 'RL'] and pd.to_numeric(row['M^2']) >= 80 and row['Piscina'] in [ 'NO'] and row['Parking'] in ['NO'] and row['Aire'] in ['SI'] and row['Wifi'] in ['SI']:        \n",
        "        precio = random.randint(90, 140)\n",
        "       # print(f\"Se asignó un precio aleatorio de {precio} a la fila {row.name}\")\n",
        "        return precio\n",
        "    if  4 <= row['Estrellas'] <= 5 and row['Resenas'] in ['BUENO', 'MUY BUENO'] and row['Kimc'] in ['MC', 'RC'] and pd.to_numeric(row['M^2']) >= 80 and row['Piscina'] in [ 'SI'] and row['Parking'] in ['SI'] and row['Aire'] in ['SI'] and row['Wifi'] in ['SI']:        \n",
        "        precio = random.randint(100, 150)\n",
        "       # print(f\"Se asignó un precio aleatorio de {precio} a la fila {row.name}\")\n",
        "        return precio\n",
        "    if  1 <= row['Estrellas'] <= 2 and row['Resenas'] in ['BUENO', 'REGULAR'] and row['Kimc'] in ['MC', 'RC', 'L'] and pd.to_numeric(row['M^2']) <= 30 and row['Piscina'] in [ 'NO'] and row['Parking'] in ['NO'] and row['Aire'] in ['SI','NO'] and row['Wifi'] in ['NO']:        \n",
        "        precio = random.randint(30, 50)\n",
        "       # print(f\"Se asignó un precio aleatorio de {precio} a la fila {row.name}\")\n",
        "        return precio\n",
        "    if  4 <= row['Estrellas'] <= 5 and row['Resenas'] in ['BUENO', 'MUY BUENO'] and row['Kimc'] in ['RL', 'ML'] and pd.to_numeric(row['M^2']) <= 80 and row['Piscina'] in [ 'SI'] and row['Parking'] in ['SI'] and row['Aire'] in ['SI'] and row['Wifi'] in ['SI']:        \n",
        "        precio = random.randint(100, 120)\n",
        "       # print(f\"Se asignó un precio aleatorio de {precio} a la fila {row.name}\")\n",
        "        return precio\n",
        "    if  4 <= row['Estrellas'] <= 5 and row['Resenas'] in ['MALO', 'REGULAR'] and row['Kimc'] in ['RC', 'L'] and pd.to_numeric(row['M^2']) <= 80 and row['Piscina'] in [ 'SI'] and row['Parking'] in ['SI'] and row['Aire'] in ['SI'] and row['Wifi'] in ['SI']:        \n",
        "        precio = random.randint(100, 120)\n",
        "       # print(f\"Se asignó un precio aleatorio de {precio} a la fila {row.name}\")\n",
        "        return precio\n",
        "    if  2 <= row['Estrellas'] <= 3 and row['Resenas'] in ['MUY BUENO', 'BUENO'] and row['Kimc'] in ['RC', 'MC'] and pd.to_numeric(row['M^2']) <= 80 and row['Piscina'] in [ 'SI', 'NO'] and row['Parking'] in ['SI','NO'] and row['Aire'] in ['SI'] and row['Wifi'] in ['SI']:        \n",
        "        precio = random.randint(70, 120)\n",
        "       # print(f\"Se asignó un precio aleatorio de {precio} a la fila {row.name}\")\n",
        "        return precio\n",
        "    if  1 <= row['Estrellas'] <= 2 and row['Resenas'] in ['MUY BUENO', 'BUENO'] and row['Kimc'] in ['RC', 'MC'] and pd.to_numeric(row['M^2']) <= 20 and row['Piscina'] in [ 'SI', 'NO'] and row['Parking'] in ['SI','NO'] and row['Aire'] in ['SI','NO'] and row['Wifi'] in ['SI','NO']:        \n",
        "        precio = random.randint(30, 80)\n",
        "       # print(f\"Se asignó un precio aleatorio de {precio} a la fila {row.name}\")\n",
        "        return precio\n",
        "    if 4 <= row['Estrellas'] <= 5 and row['Resenas'] in ['BUENO', 'MUY BUENO'] and row['Kimc'] in ['RC', 'MC'] and pd.to_numeric(row['M^2']) >= 60 and row['Piscina'] in ['SI', 'NO'] and row['Parking'] in ['NO','SI'] and row['Aire'] in ['NO', 'SI'] and row['Wifi'] in ['SI','NO']:        \n",
        "        precio = random.randint(100, 150)\n",
        "       # print(f\"Se asignó un precio aleatorio de {precio} a la fila {row.name}\")\n",
        "        return precio\n",
        "    if 3 <= row['Estrellas'] <= 5 and row['Resenas'] in ['BUENO', 'REGULAR'] and row['Kimc'] in ['RC', 'MC'] and pd.to_numeric(row['M^2']) >= 75 and row['Piscina'] in ['SI', 'NO'] and row['Parking'] in ['NO','SI'] and row['Aire'] in ['NO', 'SI'] and row['Wifi'] in ['SI','NO']:        \n",
        "        precio = random.randint(85, 110)\n",
        "       # print(f\"Se asignó un precio aleatorio de {precio} a la fila {row.name}\")\n",
        "        return precio\n",
        "    if 1 <= row['Estrellas'] <= 3 and row['Resenas'] in ['MUY BUENO', 'BUENO'] and row['Kimc'] in ['RC', 'MC'] and pd.to_numeric(row['M^2']) >= 60 and row['Piscina'] in ['SI', 'NO'] and row['Parking'] in ['NO','SI'] and row['Aire'] in ['NO', 'SI'] and row['Wifi'] in ['SI','NO']:        \n",
        "        precio = random.randint(40, 110)\n",
        "       # print(f\"Se asignó un precio aleatorio de {precio} a la fila {row.name}\")\n",
        "        return precio\n",
        "    if 2 <= row['Estrellas'] <= 5 and row['Resenas'] in ['MALO', 'REGULAR'] and row['Kimc'] in ['RC', 'MC'] and pd.to_numeric(row['M^2']) >= 100 and row['Piscina'] in ['SI', 'NO'] and row['Parking'] in ['NO','SI'] and row['Aire'] in ['NO', 'SI'] and row['Wifi'] in ['SI','NO']:        \n",
        "        precio = random.randint(100, 110)\n",
        "       # print(f\"Se asignó un precio aleatorio de {precio} a la fila {row.name}\")\n",
        "        return precio\n",
        "    if 2 <= row['Estrellas'] <= 5 and row['Resenas'] in ['MALO', 'REGULAR'] and row['Kimc'] in ['ML', 'L'] and pd.to_numeric(row['M^2']) <= 60 and row['Piscina'] in ['SI', 'NO'] and row['Parking'] in ['NO','SI'] and row['Aire'] in ['NO', 'SI'] and row['Wifi'] in ['SI','NO']:        \n",
        "        precio = random.randint(40, 70)\n",
        "       # print(f\"Se asignó un precio aleatorio de {precio} a la fila {row.name}\")\n",
        "        return precio\n",
        "    if 4 <= row['Estrellas'] <= 5 and row['Resenas'] in ['MALO', 'REGULAR'] and row['Kimc'] in ['ML', 'L'] and pd.to_numeric(row['M^2']) <= 60 and row['Piscina'] in ['SI', 'NO'] and row['Parking'] in ['NO','SI'] and row['Aire'] in ['NO', 'SI'] and row['Wifi'] in ['SI','NO']:        \n",
        "        precio = random.randint(60, 110)\n",
        "       # print(f\"Se asignó un precio aleatorio de {precio} a la fila {row.name}\")\n",
        "        return precio\n",
        "    if 2 <= row['Estrellas'] <= 3 and row['Resenas'] in ['MALO', 'REGULAR'] and row['Kimc'] in ['RC', 'MC'] and pd.to_numeric(row['M^2']) <= 60 and row['Piscina'] in ['SI', 'NO'] and row['Parking'] in ['NO','SI'] and row['Aire'] in ['NO', 'SI'] and row['Wifi'] in ['SI','NO']:        \n",
        "        precio = random.randint(30, 80)\n",
        "       # print(f\"Se asignó un precio aleatorio de {precio} a la fila {row.name}\")\n",
        "        return precio\n",
        "    if 1 <= row['Estrellas'] <= 3 and row['Resenas'] in ['BUENO', 'MUY BUENO'] and row['Kimc'] in ['L', 'ML'] and pd.to_numeric(row['M^2']) >= 60 and row['Piscina'] in ['SI', 'NO'] and row['Parking'] in ['NO','SI'] and row['Aire'] in ['NO', 'SI'] and row['Wifi'] in ['SI','NO']:        \n",
        "        precio = random.randint(100, 150)\n",
        "       # print(f\"Se asignó un precio aleatorio de {precio} a la fila {row.name}\")\n",
        "        return precio\n",
        "    if 2 <= row['Estrellas'] <= 4 and row['Resenas'] in ['BUENO', 'REGULAR'] and row['Kimc'] in ['L', 'RC'] and pd.to_numeric(row['M^2']) <= 60 and row['Piscina'] in ['SI', 'NO'] and row['Parking'] in ['NO','SI'] and row['Aire'] in ['NO', 'SI'] and row['Wifi'] in ['SI','NO']:        \n",
        "        precio = random.randint(50, 80)\n",
        "      #  print(f\"Se asignó un precio aleatorio de {precio} a la fila {row.name}\")\n",
        "        return precio\n",
        "    if 1 <= row['Estrellas'] <=3  and row['Resenas'] in ['BUENO', 'REGULAR'] and row['Kimc'] in ['MC', 'RC'] and pd.to_numeric(row['M^2']) <= 60 and row['Piscina'] in ['SI', 'NO'] and row['Parking'] in ['NO','SI'] and row['Aire'] in ['NO', 'SI'] and row['Wifi'] in ['SI','NO']:        \n",
        "        precio = random.randint(15, 70)\n",
        "       # print(f\"Se asignó un precio aleatorio de {precio} a la fila {row.name}\")\n",
        "        return precio\n",
        "    if 1 <= row['Estrellas'] <= 3 and row['Resenas'] in ['MALO', 'REGULAR'] and row['Kimc'] in ['L', 'ML'] and pd.to_numeric(row['M^2']) <= 60 and row['Piscina'] in ['SI', 'NO'] and row['Parking'] in ['NO','SI'] and row['Aire'] in ['NO', 'SI'] and row['Wifi'] in ['SI','NO']:        \n",
        "        precio = random.randint(15, 70)\n",
        "      #  print(f\"Se asignó un precio aleatorio de {precio} a la fila {row.name}\")\n",
        "        return precio\n",
        "    if 4 <= row['Estrellas'] <= 5 and row['Resenas'] in ['MALO', 'REGULAR'] and row['Kimc'] in ['L', 'ML', 'RC', 'MC'] and pd.to_numeric(row['M^2']) <= 60 and row['Piscina'] in ['SI', 'NO'] and row['Parking'] in ['NO','SI'] and row['Aire'] in ['NO', 'SI'] and row['Wifi'] in ['SI','NO']:        \n",
        "        precio = random.randint(70, 100)\n",
        "       # print(f\"Se asignó un precio aleatorio de {precio} a la fila {row.name}\")\n",
        "        return precio\n",
        "    if 3 <= row['Estrellas'] <= 5 and row['Resenas'] in ['MALO', 'REGULAR'] and row['Kimc'] in ['MC', 'RC'] and pd.to_numeric(row['M^2']) >= 60 and row['Piscina'] in ['SI', 'NO'] and row['Parking'] in ['NO','SI'] and row['Aire'] in ['NO', 'SI'] and row['Wifi'] in ['SI','NO']:        \n",
        "        precio = random.randint(15, 70)\n",
        "       # print(f\"Se asignó un precio aleatorio de {precio} a la fila {row.name}\")\n",
        "        return precio\n",
        "    if 1 <= row['Estrellas'] <= 3 and row['Resenas'] in ['MUY BUENO', 'BUENO'] and row['Kimc'] in ['L', 'ML'] and pd.to_numeric(row['M^2']) <= 60 and row['Piscina'] in ['SI', 'NO'] and row['Parking'] in ['NO','SI'] and row['Aire'] in ['NO', 'SI'] and row['Wifi'] in ['SI','NO']:        \n",
        "        precio = random.randint(15, 100)\n",
        "      #  print(f\"Se asignó un precio aleatorio de {precio} a la fila {row.name}\")\n",
        "        return precio\n",
        "    if 2 <= row['Estrellas'] <= 4 and row['Resenas'] in ['MUY BUENO', 'BUENO'] and row['Kimc'] in ['RC', 'MC'] and pd.to_numeric(row['M^2']) <= 60 and row['Piscina'] in ['SI', 'NO'] and row['Parking'] in ['NO','SI'] and row['Aire'] in ['NO', 'SI'] and row['Wifi'] in ['SI','NO']:        \n",
        "        precio = random.randint(15, 70)\n",
        "      #  print(f\"Se asignó un precio aleatorio de {precio} a la fila {row.name}\")\n",
        "        return precio\n",
        "    if 3 <= row['Estrellas'] <= 5 and row['Resenas'] in ['MUY BUENO', 'BUENO'] and row['Kimc'] in ['RC', 'MC'] and pd.to_numeric(row['M^2']) >= 60 and row['Piscina'] in ['SI'] and row['Parking'] in ['SI'] and row['Aire'] in ['SI'] and row['Wifi'] in ['SI']:        \n",
        "        precio = random.randint(150, 300)\n",
        "       # print(f\"Se asignó un precio aleatorio de {precio} a la fila {row.name}\")\n",
        "        return precio\n",
        "    if 1 <= row['Estrellas'] <= 5 and row['Resenas'] in ['MALO', 'REGULAR'] and row['Kimc'] in ['L', 'ML'] and pd.to_numeric(row['M^2']) <= 50 and row['Piscina'] in [ 'NO'] and row['Parking'] in ['NO'] and row['Aire'] in ['NO', 'SI'] and row['Wifi'] in ['SI','NO']:        \n",
        "        precio = random.randint(15, 30)\n",
        "       # print(f\"Se asignó un precio aleatorio de {precio} a la fila {row.name}\")\n",
        "        return precio\n",
        "    if 4 <= row['Estrellas'] <= 5 and row['Resenas'] in ['BUENO', 'MUY BUENO', 'REGULAR'] and row['Kimc'] in ['L', 'ML'] and pd.to_numeric(row['M^2']) >= 100 and row['Piscina'] in [ 'NO'] and row['Parking'] in ['SI','NO'] and row['Aire'] in ['NO', 'SI'] and row['Wifi'] in ['SI','NO']:        \n",
        "        precio = random.randint(130, 170)\n",
        "       # print(f\"Se asignó un precio aleatorio de {precio} a la fila {row.name}\")\n",
        "        return precio\n",
        "    \n",
        "    else:\n",
        "        return float('nan')\n",
        "\n",
        "# aplicar función al DataFrame\n",
        "da['Precio'] = da.apply(asignar_valor, axis=1)\n",
        "da\n"
      ],
      "metadata": {
        "colab": {
          "base_uri": "https://localhost:8080/",
          "height": 411
        },
        "id": "zYSFBXNPLyKM",
        "outputId": "0ac8c962-eb69-4a7f-9041-99b7bf4184c7"
      },
      "execution_count": 79,
      "outputs": [
        {
          "output_type": "execute_result",
          "data": {
            "text/plain": [
              "     Kimc  Estrellas  M^2    Resenas Piscina Parking Terraza Aire Wifi  Precio\n",
              "0      ML          5   58  MUY BUENO      SI      SI      NO   SI   NO     NaN\n",
              "1       L          3   27    REGULAR      SI      NO      SI   SI   NO    40.0\n",
              "2      ML          1   44  MUY BUENO      NO      SI      SI   SI   NO    75.0\n",
              "3      ML          3   82    REGULAR      SI      SI      SI   NO   SI     NaN\n",
              "4      RC          4    9      BUENO      SI      SI      NO   NO   SI    50.0\n",
              "...   ...        ...  ...        ...     ...     ...     ...  ...  ...     ...\n",
              "1995    L          4   60       MALO      SI      NO      SI   NO   SI    69.0\n",
              "1996   RC          2    6       MALO      NO      NO      SI   NO   NO    66.0\n",
              "1997   ML          2   55       MALO      NO      NO      SI   SI   NO    70.0\n",
              "1998   RC          2   25  MUY BUENO      NO      NO      NO   SI   SI    71.0\n",
              "1999    L          2   10    REGULAR      NO      NO      NO   SI   NO    47.0\n",
              "\n",
              "[2000 rows x 10 columns]"
            ],
            "text/html": [
              "\n",
              "  <div id=\"df-8f4a622e-13c6-405e-870e-197bed10085a\">\n",
              "    <div class=\"colab-df-container\">\n",
              "      <div>\n",
              "<style scoped>\n",
              "    .dataframe tbody tr th:only-of-type {\n",
              "        vertical-align: middle;\n",
              "    }\n",
              "\n",
              "    .dataframe tbody tr th {\n",
              "        vertical-align: top;\n",
              "    }\n",
              "\n",
              "    .dataframe thead th {\n",
              "        text-align: right;\n",
              "    }\n",
              "</style>\n",
              "<table border=\"1\" class=\"dataframe\">\n",
              "  <thead>\n",
              "    <tr style=\"text-align: right;\">\n",
              "      <th></th>\n",
              "      <th>Kimc</th>\n",
              "      <th>Estrellas</th>\n",
              "      <th>M^2</th>\n",
              "      <th>Resenas</th>\n",
              "      <th>Piscina</th>\n",
              "      <th>Parking</th>\n",
              "      <th>Terraza</th>\n",
              "      <th>Aire</th>\n",
              "      <th>Wifi</th>\n",
              "      <th>Precio</th>\n",
              "    </tr>\n",
              "  </thead>\n",
              "  <tbody>\n",
              "    <tr>\n",
              "      <th>0</th>\n",
              "      <td>ML</td>\n",
              "      <td>5</td>\n",
              "      <td>58</td>\n",
              "      <td>MUY BUENO</td>\n",
              "      <td>SI</td>\n",
              "      <td>SI</td>\n",
              "      <td>NO</td>\n",
              "      <td>SI</td>\n",
              "      <td>NO</td>\n",
              "      <td>NaN</td>\n",
              "    </tr>\n",
              "    <tr>\n",
              "      <th>1</th>\n",
              "      <td>L</td>\n",
              "      <td>3</td>\n",
              "      <td>27</td>\n",
              "      <td>REGULAR</td>\n",
              "      <td>SI</td>\n",
              "      <td>NO</td>\n",
              "      <td>SI</td>\n",
              "      <td>SI</td>\n",
              "      <td>NO</td>\n",
              "      <td>40.0</td>\n",
              "    </tr>\n",
              "    <tr>\n",
              "      <th>2</th>\n",
              "      <td>ML</td>\n",
              "      <td>1</td>\n",
              "      <td>44</td>\n",
              "      <td>MUY BUENO</td>\n",
              "      <td>NO</td>\n",
              "      <td>SI</td>\n",
              "      <td>SI</td>\n",
              "      <td>SI</td>\n",
              "      <td>NO</td>\n",
              "      <td>75.0</td>\n",
              "    </tr>\n",
              "    <tr>\n",
              "      <th>3</th>\n",
              "      <td>ML</td>\n",
              "      <td>3</td>\n",
              "      <td>82</td>\n",
              "      <td>REGULAR</td>\n",
              "      <td>SI</td>\n",
              "      <td>SI</td>\n",
              "      <td>SI</td>\n",
              "      <td>NO</td>\n",
              "      <td>SI</td>\n",
              "      <td>NaN</td>\n",
              "    </tr>\n",
              "    <tr>\n",
              "      <th>4</th>\n",
              "      <td>RC</td>\n",
              "      <td>4</td>\n",
              "      <td>9</td>\n",
              "      <td>BUENO</td>\n",
              "      <td>SI</td>\n",
              "      <td>SI</td>\n",
              "      <td>NO</td>\n",
              "      <td>NO</td>\n",
              "      <td>SI</td>\n",
              "      <td>50.0</td>\n",
              "    </tr>\n",
              "    <tr>\n",
              "      <th>...</th>\n",
              "      <td>...</td>\n",
              "      <td>...</td>\n",
              "      <td>...</td>\n",
              "      <td>...</td>\n",
              "      <td>...</td>\n",
              "      <td>...</td>\n",
              "      <td>...</td>\n",
              "      <td>...</td>\n",
              "      <td>...</td>\n",
              "      <td>...</td>\n",
              "    </tr>\n",
              "    <tr>\n",
              "      <th>1995</th>\n",
              "      <td>L</td>\n",
              "      <td>4</td>\n",
              "      <td>60</td>\n",
              "      <td>MALO</td>\n",
              "      <td>SI</td>\n",
              "      <td>NO</td>\n",
              "      <td>SI</td>\n",
              "      <td>NO</td>\n",
              "      <td>SI</td>\n",
              "      <td>69.0</td>\n",
              "    </tr>\n",
              "    <tr>\n",
              "      <th>1996</th>\n",
              "      <td>RC</td>\n",
              "      <td>2</td>\n",
              "      <td>6</td>\n",
              "      <td>MALO</td>\n",
              "      <td>NO</td>\n",
              "      <td>NO</td>\n",
              "      <td>SI</td>\n",
              "      <td>NO</td>\n",
              "      <td>NO</td>\n",
              "      <td>66.0</td>\n",
              "    </tr>\n",
              "    <tr>\n",
              "      <th>1997</th>\n",
              "      <td>ML</td>\n",
              "      <td>2</td>\n",
              "      <td>55</td>\n",
              "      <td>MALO</td>\n",
              "      <td>NO</td>\n",
              "      <td>NO</td>\n",
              "      <td>SI</td>\n",
              "      <td>SI</td>\n",
              "      <td>NO</td>\n",
              "      <td>70.0</td>\n",
              "    </tr>\n",
              "    <tr>\n",
              "      <th>1998</th>\n",
              "      <td>RC</td>\n",
              "      <td>2</td>\n",
              "      <td>25</td>\n",
              "      <td>MUY BUENO</td>\n",
              "      <td>NO</td>\n",
              "      <td>NO</td>\n",
              "      <td>NO</td>\n",
              "      <td>SI</td>\n",
              "      <td>SI</td>\n",
              "      <td>71.0</td>\n",
              "    </tr>\n",
              "    <tr>\n",
              "      <th>1999</th>\n",
              "      <td>L</td>\n",
              "      <td>2</td>\n",
              "      <td>10</td>\n",
              "      <td>REGULAR</td>\n",
              "      <td>NO</td>\n",
              "      <td>NO</td>\n",
              "      <td>NO</td>\n",
              "      <td>SI</td>\n",
              "      <td>NO</td>\n",
              "      <td>47.0</td>\n",
              "    </tr>\n",
              "  </tbody>\n",
              "</table>\n",
              "<p>2000 rows × 10 columns</p>\n",
              "</div>\n",
              "      <button class=\"colab-df-convert\" onclick=\"convertToInteractive('df-8f4a622e-13c6-405e-870e-197bed10085a')\"\n",
              "              title=\"Convert this dataframe to an interactive table.\"\n",
              "              style=\"display:none;\">\n",
              "        \n",
              "  <svg xmlns=\"http://www.w3.org/2000/svg\" height=\"24px\"viewBox=\"0 0 24 24\"\n",
              "       width=\"24px\">\n",
              "    <path d=\"M0 0h24v24H0V0z\" fill=\"none\"/>\n",
              "    <path d=\"M18.56 5.44l.94 2.06.94-2.06 2.06-.94-2.06-.94-.94-2.06-.94 2.06-2.06.94zm-11 1L8.5 8.5l.94-2.06 2.06-.94-2.06-.94L8.5 2.5l-.94 2.06-2.06.94zm10 10l.94 2.06.94-2.06 2.06-.94-2.06-.94-.94-2.06-.94 2.06-2.06.94z\"/><path d=\"M17.41 7.96l-1.37-1.37c-.4-.4-.92-.59-1.43-.59-.52 0-1.04.2-1.43.59L10.3 9.45l-7.72 7.72c-.78.78-.78 2.05 0 2.83L4 21.41c.39.39.9.59 1.41.59.51 0 1.02-.2 1.41-.59l7.78-7.78 2.81-2.81c.8-.78.8-2.07 0-2.86zM5.41 20L4 18.59l7.72-7.72 1.47 1.35L5.41 20z\"/>\n",
              "  </svg>\n",
              "      </button>\n",
              "      \n",
              "  <style>\n",
              "    .colab-df-container {\n",
              "      display:flex;\n",
              "      flex-wrap:wrap;\n",
              "      gap: 12px;\n",
              "    }\n",
              "\n",
              "    .colab-df-convert {\n",
              "      background-color: #E8F0FE;\n",
              "      border: none;\n",
              "      border-radius: 50%;\n",
              "      cursor: pointer;\n",
              "      display: none;\n",
              "      fill: #1967D2;\n",
              "      height: 32px;\n",
              "      padding: 0 0 0 0;\n",
              "      width: 32px;\n",
              "    }\n",
              "\n",
              "    .colab-df-convert:hover {\n",
              "      background-color: #E2EBFA;\n",
              "      box-shadow: 0px 1px 2px rgba(60, 64, 67, 0.3), 0px 1px 3px 1px rgba(60, 64, 67, 0.15);\n",
              "      fill: #174EA6;\n",
              "    }\n",
              "\n",
              "    [theme=dark] .colab-df-convert {\n",
              "      background-color: #3B4455;\n",
              "      fill: #D2E3FC;\n",
              "    }\n",
              "\n",
              "    [theme=dark] .colab-df-convert:hover {\n",
              "      background-color: #434B5C;\n",
              "      box-shadow: 0px 1px 3px 1px rgba(0, 0, 0, 0.15);\n",
              "      filter: drop-shadow(0px 1px 2px rgba(0, 0, 0, 0.3));\n",
              "      fill: #FFFFFF;\n",
              "    }\n",
              "  </style>\n",
              "\n",
              "      <script>\n",
              "        const buttonEl =\n",
              "          document.querySelector('#df-8f4a622e-13c6-405e-870e-197bed10085a button.colab-df-convert');\n",
              "        buttonEl.style.display =\n",
              "          google.colab.kernel.accessAllowed ? 'block' : 'none';\n",
              "\n",
              "        async function convertToInteractive(key) {\n",
              "          const element = document.querySelector('#df-8f4a622e-13c6-405e-870e-197bed10085a');\n",
              "          const dataTable =\n",
              "            await google.colab.kernel.invokeFunction('convertToInteractive',\n",
              "                                                     [key], {});\n",
              "          if (!dataTable) return;\n",
              "\n",
              "          const docLinkHtml = 'Like what you see? Visit the ' +\n",
              "            '<a target=\"_blank\" href=https://colab.research.google.com/notebooks/data_table.ipynb>data table notebook</a>'\n",
              "            + ' to learn more about interactive tables.';\n",
              "          element.innerHTML = '';\n",
              "          dataTable['output_type'] = 'display_data';\n",
              "          await google.colab.output.renderOutput(dataTable, element);\n",
              "          const docLink = document.createElement('div');\n",
              "          docLink.innerHTML = docLinkHtml;\n",
              "          element.appendChild(docLink);\n",
              "        }\n",
              "      </script>\n",
              "    </div>\n",
              "  </div>\n",
              "  "
            ]
          },
          "metadata": {},
          "execution_count": 79
        }
      ]
    },
    {
      "cell_type": "code",
      "source": [
        "da.describe()"
      ],
      "metadata": {
        "colab": {
          "base_uri": "https://localhost:8080/",
          "height": 291
        },
        "id": "mUj16rAuNw_6",
        "outputId": "54e0d20e-c3a2-4db3-c494-f4130f4ae87a"
      },
      "execution_count": 80,
      "outputs": [
        {
          "output_type": "execute_result",
          "data": {
            "text/plain": [
              "        Estrellas          M^2       Precio\n",
              "count  2000.00000  2000.000000  1431.000000\n",
              "mean      3.06050    60.024500    79.058001\n",
              "std       1.41097    34.860171    35.405663\n",
              "min       1.00000     0.000000    15.000000\n",
              "25%       2.00000    30.000000    52.000000\n",
              "50%       3.00000    62.000000    71.000000\n",
              "75%       4.00000    90.000000   107.000000\n",
              "max       5.00000   119.000000   170.000000"
            ],
            "text/html": [
              "\n",
              "  <div id=\"df-e19e887d-0424-4a96-9c26-ffeab7d0cf61\">\n",
              "    <div class=\"colab-df-container\">\n",
              "      <div>\n",
              "<style scoped>\n",
              "    .dataframe tbody tr th:only-of-type {\n",
              "        vertical-align: middle;\n",
              "    }\n",
              "\n",
              "    .dataframe tbody tr th {\n",
              "        vertical-align: top;\n",
              "    }\n",
              "\n",
              "    .dataframe thead th {\n",
              "        text-align: right;\n",
              "    }\n",
              "</style>\n",
              "<table border=\"1\" class=\"dataframe\">\n",
              "  <thead>\n",
              "    <tr style=\"text-align: right;\">\n",
              "      <th></th>\n",
              "      <th>Estrellas</th>\n",
              "      <th>M^2</th>\n",
              "      <th>Precio</th>\n",
              "    </tr>\n",
              "  </thead>\n",
              "  <tbody>\n",
              "    <tr>\n",
              "      <th>count</th>\n",
              "      <td>2000.00000</td>\n",
              "      <td>2000.000000</td>\n",
              "      <td>1431.000000</td>\n",
              "    </tr>\n",
              "    <tr>\n",
              "      <th>mean</th>\n",
              "      <td>3.06050</td>\n",
              "      <td>60.024500</td>\n",
              "      <td>79.058001</td>\n",
              "    </tr>\n",
              "    <tr>\n",
              "      <th>std</th>\n",
              "      <td>1.41097</td>\n",
              "      <td>34.860171</td>\n",
              "      <td>35.405663</td>\n",
              "    </tr>\n",
              "    <tr>\n",
              "      <th>min</th>\n",
              "      <td>1.00000</td>\n",
              "      <td>0.000000</td>\n",
              "      <td>15.000000</td>\n",
              "    </tr>\n",
              "    <tr>\n",
              "      <th>25%</th>\n",
              "      <td>2.00000</td>\n",
              "      <td>30.000000</td>\n",
              "      <td>52.000000</td>\n",
              "    </tr>\n",
              "    <tr>\n",
              "      <th>50%</th>\n",
              "      <td>3.00000</td>\n",
              "      <td>62.000000</td>\n",
              "      <td>71.000000</td>\n",
              "    </tr>\n",
              "    <tr>\n",
              "      <th>75%</th>\n",
              "      <td>4.00000</td>\n",
              "      <td>90.000000</td>\n",
              "      <td>107.000000</td>\n",
              "    </tr>\n",
              "    <tr>\n",
              "      <th>max</th>\n",
              "      <td>5.00000</td>\n",
              "      <td>119.000000</td>\n",
              "      <td>170.000000</td>\n",
              "    </tr>\n",
              "  </tbody>\n",
              "</table>\n",
              "</div>\n",
              "      <button class=\"colab-df-convert\" onclick=\"convertToInteractive('df-e19e887d-0424-4a96-9c26-ffeab7d0cf61')\"\n",
              "              title=\"Convert this dataframe to an interactive table.\"\n",
              "              style=\"display:none;\">\n",
              "        \n",
              "  <svg xmlns=\"http://www.w3.org/2000/svg\" height=\"24px\"viewBox=\"0 0 24 24\"\n",
              "       width=\"24px\">\n",
              "    <path d=\"M0 0h24v24H0V0z\" fill=\"none\"/>\n",
              "    <path d=\"M18.56 5.44l.94 2.06.94-2.06 2.06-.94-2.06-.94-.94-2.06-.94 2.06-2.06.94zm-11 1L8.5 8.5l.94-2.06 2.06-.94-2.06-.94L8.5 2.5l-.94 2.06-2.06.94zm10 10l.94 2.06.94-2.06 2.06-.94-2.06-.94-.94-2.06-.94 2.06-2.06.94z\"/><path d=\"M17.41 7.96l-1.37-1.37c-.4-.4-.92-.59-1.43-.59-.52 0-1.04.2-1.43.59L10.3 9.45l-7.72 7.72c-.78.78-.78 2.05 0 2.83L4 21.41c.39.39.9.59 1.41.59.51 0 1.02-.2 1.41-.59l7.78-7.78 2.81-2.81c.8-.78.8-2.07 0-2.86zM5.41 20L4 18.59l7.72-7.72 1.47 1.35L5.41 20z\"/>\n",
              "  </svg>\n",
              "      </button>\n",
              "      \n",
              "  <style>\n",
              "    .colab-df-container {\n",
              "      display:flex;\n",
              "      flex-wrap:wrap;\n",
              "      gap: 12px;\n",
              "    }\n",
              "\n",
              "    .colab-df-convert {\n",
              "      background-color: #E8F0FE;\n",
              "      border: none;\n",
              "      border-radius: 50%;\n",
              "      cursor: pointer;\n",
              "      display: none;\n",
              "      fill: #1967D2;\n",
              "      height: 32px;\n",
              "      padding: 0 0 0 0;\n",
              "      width: 32px;\n",
              "    }\n",
              "\n",
              "    .colab-df-convert:hover {\n",
              "      background-color: #E2EBFA;\n",
              "      box-shadow: 0px 1px 2px rgba(60, 64, 67, 0.3), 0px 1px 3px 1px rgba(60, 64, 67, 0.15);\n",
              "      fill: #174EA6;\n",
              "    }\n",
              "\n",
              "    [theme=dark] .colab-df-convert {\n",
              "      background-color: #3B4455;\n",
              "      fill: #D2E3FC;\n",
              "    }\n",
              "\n",
              "    [theme=dark] .colab-df-convert:hover {\n",
              "      background-color: #434B5C;\n",
              "      box-shadow: 0px 1px 3px 1px rgba(0, 0, 0, 0.15);\n",
              "      filter: drop-shadow(0px 1px 2px rgba(0, 0, 0, 0.3));\n",
              "      fill: #FFFFFF;\n",
              "    }\n",
              "  </style>\n",
              "\n",
              "      <script>\n",
              "        const buttonEl =\n",
              "          document.querySelector('#df-e19e887d-0424-4a96-9c26-ffeab7d0cf61 button.colab-df-convert');\n",
              "        buttonEl.style.display =\n",
              "          google.colab.kernel.accessAllowed ? 'block' : 'none';\n",
              "\n",
              "        async function convertToInteractive(key) {\n",
              "          const element = document.querySelector('#df-e19e887d-0424-4a96-9c26-ffeab7d0cf61');\n",
              "          const dataTable =\n",
              "            await google.colab.kernel.invokeFunction('convertToInteractive',\n",
              "                                                     [key], {});\n",
              "          if (!dataTable) return;\n",
              "\n",
              "          const docLinkHtml = 'Like what you see? Visit the ' +\n",
              "            '<a target=\"_blank\" href=https://colab.research.google.com/notebooks/data_table.ipynb>data table notebook</a>'\n",
              "            + ' to learn more about interactive tables.';\n",
              "          element.innerHTML = '';\n",
              "          dataTable['output_type'] = 'display_data';\n",
              "          await google.colab.output.renderOutput(dataTable, element);\n",
              "          const docLink = document.createElement('div');\n",
              "          docLink.innerHTML = docLinkHtml;\n",
              "          element.appendChild(docLink);\n",
              "        }\n",
              "      </script>\n",
              "    </div>\n",
              "  </div>\n",
              "  "
            ]
          },
          "metadata": {},
          "execution_count": 80
        }
      ]
    },
    {
      "cell_type": "code",
      "source": [
        "precio_media = da['Precio'].mean()\n",
        "\n",
        "# rellenar los valores faltantes con la media\n",
        "da['Precio'].fillna(precio_media, inplace=True)\n",
        "precio_media"
      ],
      "metadata": {
        "colab": {
          "base_uri": "https://localhost:8080/"
        },
        "id": "m1WjcTvNWLOo",
        "outputId": "6d1d7507-135f-445e-a5e6-ea5b5dfa7c8f"
      },
      "execution_count": 81,
      "outputs": [
        {
          "output_type": "execute_result",
          "data": {
            "text/plain": [
              "79.05800139762404"
            ]
          },
          "metadata": {},
          "execution_count": 81
        }
      ]
    },
    {
      "cell_type": "code",
      "source": [
        "da = da.join(data[['Punto de interés', 'Tipo de cama']])\n",
        "da"
      ],
      "metadata": {
        "colab": {
          "base_uri": "https://localhost:8080/",
          "height": 411
        },
        "id": "Ydhjy_cxhSp5",
        "outputId": "f16128e7-77c6-4221-9a1f-57b6001ffa9e"
      },
      "execution_count": 82,
      "outputs": [
        {
          "output_type": "execute_result",
          "data": {
            "text/plain": [
              "     Kimc  Estrellas  M^2    Resenas Piscina Parking Terraza Aire Wifi  \\\n",
              "0      ML          5   58  MUY BUENO      SI      SI      NO   SI   NO   \n",
              "1       L          3   27    REGULAR      SI      NO      SI   SI   NO   \n",
              "2      ML          1   44  MUY BUENO      NO      SI      SI   SI   NO   \n",
              "3      ML          3   82    REGULAR      SI      SI      SI   NO   SI   \n",
              "4      RC          4    9      BUENO      SI      SI      NO   NO   SI   \n",
              "...   ...        ...  ...        ...     ...     ...     ...  ...  ...   \n",
              "1995    L          4   60       MALO      SI      NO      SI   NO   SI   \n",
              "1996   RC          2    6       MALO      NO      NO      SI   NO   NO   \n",
              "1997   ML          2   55       MALO      NO      NO      SI   SI   NO   \n",
              "1998   RC          2   25  MUY BUENO      NO      NO      NO   SI   SI   \n",
              "1999    L          2   10    REGULAR      NO      NO      NO   SI   NO   \n",
              "\n",
              "         Precio  Punto de interés Tipo de cama  \n",
              "0     79.058001         46.285456        1D/2I  \n",
              "1     40.000000         13.516389        1D/2I  \n",
              "2     75.000000         20.293402        1D/2I  \n",
              "3     79.058001         50.375799        1D/2I  \n",
              "4     50.000000         22.545358        1D/2I  \n",
              "...         ...               ...          ...  \n",
              "1995  69.000000         40.136368        1D/2I  \n",
              "1996  66.000000         73.173745           3I  \n",
              "1997  70.000000         77.314821           1D  \n",
              "1998  71.000000         50.845878        1D/2I  \n",
              "1999  47.000000         97.271466           2I  \n",
              "\n",
              "[2000 rows x 12 columns]"
            ],
            "text/html": [
              "\n",
              "  <div id=\"df-93e0bcf5-9e3c-4c91-8be0-be948d0c0836\">\n",
              "    <div class=\"colab-df-container\">\n",
              "      <div>\n",
              "<style scoped>\n",
              "    .dataframe tbody tr th:only-of-type {\n",
              "        vertical-align: middle;\n",
              "    }\n",
              "\n",
              "    .dataframe tbody tr th {\n",
              "        vertical-align: top;\n",
              "    }\n",
              "\n",
              "    .dataframe thead th {\n",
              "        text-align: right;\n",
              "    }\n",
              "</style>\n",
              "<table border=\"1\" class=\"dataframe\">\n",
              "  <thead>\n",
              "    <tr style=\"text-align: right;\">\n",
              "      <th></th>\n",
              "      <th>Kimc</th>\n",
              "      <th>Estrellas</th>\n",
              "      <th>M^2</th>\n",
              "      <th>Resenas</th>\n",
              "      <th>Piscina</th>\n",
              "      <th>Parking</th>\n",
              "      <th>Terraza</th>\n",
              "      <th>Aire</th>\n",
              "      <th>Wifi</th>\n",
              "      <th>Precio</th>\n",
              "      <th>Punto de interés</th>\n",
              "      <th>Tipo de cama</th>\n",
              "    </tr>\n",
              "  </thead>\n",
              "  <tbody>\n",
              "    <tr>\n",
              "      <th>0</th>\n",
              "      <td>ML</td>\n",
              "      <td>5</td>\n",
              "      <td>58</td>\n",
              "      <td>MUY BUENO</td>\n",
              "      <td>SI</td>\n",
              "      <td>SI</td>\n",
              "      <td>NO</td>\n",
              "      <td>SI</td>\n",
              "      <td>NO</td>\n",
              "      <td>79.058001</td>\n",
              "      <td>46.285456</td>\n",
              "      <td>1D/2I</td>\n",
              "    </tr>\n",
              "    <tr>\n",
              "      <th>1</th>\n",
              "      <td>L</td>\n",
              "      <td>3</td>\n",
              "      <td>27</td>\n",
              "      <td>REGULAR</td>\n",
              "      <td>SI</td>\n",
              "      <td>NO</td>\n",
              "      <td>SI</td>\n",
              "      <td>SI</td>\n",
              "      <td>NO</td>\n",
              "      <td>40.000000</td>\n",
              "      <td>13.516389</td>\n",
              "      <td>1D/2I</td>\n",
              "    </tr>\n",
              "    <tr>\n",
              "      <th>2</th>\n",
              "      <td>ML</td>\n",
              "      <td>1</td>\n",
              "      <td>44</td>\n",
              "      <td>MUY BUENO</td>\n",
              "      <td>NO</td>\n",
              "      <td>SI</td>\n",
              "      <td>SI</td>\n",
              "      <td>SI</td>\n",
              "      <td>NO</td>\n",
              "      <td>75.000000</td>\n",
              "      <td>20.293402</td>\n",
              "      <td>1D/2I</td>\n",
              "    </tr>\n",
              "    <tr>\n",
              "      <th>3</th>\n",
              "      <td>ML</td>\n",
              "      <td>3</td>\n",
              "      <td>82</td>\n",
              "      <td>REGULAR</td>\n",
              "      <td>SI</td>\n",
              "      <td>SI</td>\n",
              "      <td>SI</td>\n",
              "      <td>NO</td>\n",
              "      <td>SI</td>\n",
              "      <td>79.058001</td>\n",
              "      <td>50.375799</td>\n",
              "      <td>1D/2I</td>\n",
              "    </tr>\n",
              "    <tr>\n",
              "      <th>4</th>\n",
              "      <td>RC</td>\n",
              "      <td>4</td>\n",
              "      <td>9</td>\n",
              "      <td>BUENO</td>\n",
              "      <td>SI</td>\n",
              "      <td>SI</td>\n",
              "      <td>NO</td>\n",
              "      <td>NO</td>\n",
              "      <td>SI</td>\n",
              "      <td>50.000000</td>\n",
              "      <td>22.545358</td>\n",
              "      <td>1D/2I</td>\n",
              "    </tr>\n",
              "    <tr>\n",
              "      <th>...</th>\n",
              "      <td>...</td>\n",
              "      <td>...</td>\n",
              "      <td>...</td>\n",
              "      <td>...</td>\n",
              "      <td>...</td>\n",
              "      <td>...</td>\n",
              "      <td>...</td>\n",
              "      <td>...</td>\n",
              "      <td>...</td>\n",
              "      <td>...</td>\n",
              "      <td>...</td>\n",
              "      <td>...</td>\n",
              "    </tr>\n",
              "    <tr>\n",
              "      <th>1995</th>\n",
              "      <td>L</td>\n",
              "      <td>4</td>\n",
              "      <td>60</td>\n",
              "      <td>MALO</td>\n",
              "      <td>SI</td>\n",
              "      <td>NO</td>\n",
              "      <td>SI</td>\n",
              "      <td>NO</td>\n",
              "      <td>SI</td>\n",
              "      <td>69.000000</td>\n",
              "      <td>40.136368</td>\n",
              "      <td>1D/2I</td>\n",
              "    </tr>\n",
              "    <tr>\n",
              "      <th>1996</th>\n",
              "      <td>RC</td>\n",
              "      <td>2</td>\n",
              "      <td>6</td>\n",
              "      <td>MALO</td>\n",
              "      <td>NO</td>\n",
              "      <td>NO</td>\n",
              "      <td>SI</td>\n",
              "      <td>NO</td>\n",
              "      <td>NO</td>\n",
              "      <td>66.000000</td>\n",
              "      <td>73.173745</td>\n",
              "      <td>3I</td>\n",
              "    </tr>\n",
              "    <tr>\n",
              "      <th>1997</th>\n",
              "      <td>ML</td>\n",
              "      <td>2</td>\n",
              "      <td>55</td>\n",
              "      <td>MALO</td>\n",
              "      <td>NO</td>\n",
              "      <td>NO</td>\n",
              "      <td>SI</td>\n",
              "      <td>SI</td>\n",
              "      <td>NO</td>\n",
              "      <td>70.000000</td>\n",
              "      <td>77.314821</td>\n",
              "      <td>1D</td>\n",
              "    </tr>\n",
              "    <tr>\n",
              "      <th>1998</th>\n",
              "      <td>RC</td>\n",
              "      <td>2</td>\n",
              "      <td>25</td>\n",
              "      <td>MUY BUENO</td>\n",
              "      <td>NO</td>\n",
              "      <td>NO</td>\n",
              "      <td>NO</td>\n",
              "      <td>SI</td>\n",
              "      <td>SI</td>\n",
              "      <td>71.000000</td>\n",
              "      <td>50.845878</td>\n",
              "      <td>1D/2I</td>\n",
              "    </tr>\n",
              "    <tr>\n",
              "      <th>1999</th>\n",
              "      <td>L</td>\n",
              "      <td>2</td>\n",
              "      <td>10</td>\n",
              "      <td>REGULAR</td>\n",
              "      <td>NO</td>\n",
              "      <td>NO</td>\n",
              "      <td>NO</td>\n",
              "      <td>SI</td>\n",
              "      <td>NO</td>\n",
              "      <td>47.000000</td>\n",
              "      <td>97.271466</td>\n",
              "      <td>2I</td>\n",
              "    </tr>\n",
              "  </tbody>\n",
              "</table>\n",
              "<p>2000 rows × 12 columns</p>\n",
              "</div>\n",
              "      <button class=\"colab-df-convert\" onclick=\"convertToInteractive('df-93e0bcf5-9e3c-4c91-8be0-be948d0c0836')\"\n",
              "              title=\"Convert this dataframe to an interactive table.\"\n",
              "              style=\"display:none;\">\n",
              "        \n",
              "  <svg xmlns=\"http://www.w3.org/2000/svg\" height=\"24px\"viewBox=\"0 0 24 24\"\n",
              "       width=\"24px\">\n",
              "    <path d=\"M0 0h24v24H0V0z\" fill=\"none\"/>\n",
              "    <path d=\"M18.56 5.44l.94 2.06.94-2.06 2.06-.94-2.06-.94-.94-2.06-.94 2.06-2.06.94zm-11 1L8.5 8.5l.94-2.06 2.06-.94-2.06-.94L8.5 2.5l-.94 2.06-2.06.94zm10 10l.94 2.06.94-2.06 2.06-.94-2.06-.94-.94-2.06-.94 2.06-2.06.94z\"/><path d=\"M17.41 7.96l-1.37-1.37c-.4-.4-.92-.59-1.43-.59-.52 0-1.04.2-1.43.59L10.3 9.45l-7.72 7.72c-.78.78-.78 2.05 0 2.83L4 21.41c.39.39.9.59 1.41.59.51 0 1.02-.2 1.41-.59l7.78-7.78 2.81-2.81c.8-.78.8-2.07 0-2.86zM5.41 20L4 18.59l7.72-7.72 1.47 1.35L5.41 20z\"/>\n",
              "  </svg>\n",
              "      </button>\n",
              "      \n",
              "  <style>\n",
              "    .colab-df-container {\n",
              "      display:flex;\n",
              "      flex-wrap:wrap;\n",
              "      gap: 12px;\n",
              "    }\n",
              "\n",
              "    .colab-df-convert {\n",
              "      background-color: #E8F0FE;\n",
              "      border: none;\n",
              "      border-radius: 50%;\n",
              "      cursor: pointer;\n",
              "      display: none;\n",
              "      fill: #1967D2;\n",
              "      height: 32px;\n",
              "      padding: 0 0 0 0;\n",
              "      width: 32px;\n",
              "    }\n",
              "\n",
              "    .colab-df-convert:hover {\n",
              "      background-color: #E2EBFA;\n",
              "      box-shadow: 0px 1px 2px rgba(60, 64, 67, 0.3), 0px 1px 3px 1px rgba(60, 64, 67, 0.15);\n",
              "      fill: #174EA6;\n",
              "    }\n",
              "\n",
              "    [theme=dark] .colab-df-convert {\n",
              "      background-color: #3B4455;\n",
              "      fill: #D2E3FC;\n",
              "    }\n",
              "\n",
              "    [theme=dark] .colab-df-convert:hover {\n",
              "      background-color: #434B5C;\n",
              "      box-shadow: 0px 1px 3px 1px rgba(0, 0, 0, 0.15);\n",
              "      filter: drop-shadow(0px 1px 2px rgba(0, 0, 0, 0.3));\n",
              "      fill: #FFFFFF;\n",
              "    }\n",
              "  </style>\n",
              "\n",
              "      <script>\n",
              "        const buttonEl =\n",
              "          document.querySelector('#df-93e0bcf5-9e3c-4c91-8be0-be948d0c0836 button.colab-df-convert');\n",
              "        buttonEl.style.display =\n",
              "          google.colab.kernel.accessAllowed ? 'block' : 'none';\n",
              "\n",
              "        async function convertToInteractive(key) {\n",
              "          const element = document.querySelector('#df-93e0bcf5-9e3c-4c91-8be0-be948d0c0836');\n",
              "          const dataTable =\n",
              "            await google.colab.kernel.invokeFunction('convertToInteractive',\n",
              "                                                     [key], {});\n",
              "          if (!dataTable) return;\n",
              "\n",
              "          const docLinkHtml = 'Like what you see? Visit the ' +\n",
              "            '<a target=\"_blank\" href=https://colab.research.google.com/notebooks/data_table.ipynb>data table notebook</a>'\n",
              "            + ' to learn more about interactive tables.';\n",
              "          element.innerHTML = '';\n",
              "          dataTable['output_type'] = 'display_data';\n",
              "          await google.colab.output.renderOutput(dataTable, element);\n",
              "          const docLink = document.createElement('div');\n",
              "          docLink.innerHTML = docLinkHtml;\n",
              "          element.appendChild(docLink);\n",
              "        }\n",
              "      </script>\n",
              "    </div>\n",
              "  </div>\n",
              "  "
            ]
          },
          "metadata": {},
          "execution_count": 82
        }
      ]
    },
    {
      "cell_type": "code",
      "source": [
        "\n",
        "def location(row):\n",
        "\n",
        "    if pd.to_numeric(row['Precio']) >= 150:\n",
        "\n",
        "        return np.random.choice([\"Mallorca\", \"Menorca\", \"Ibiza\", \"Formentera\", \"Las Palmas de Gran Canaria\", \"Cádiz\", \"Girona\", \"Marbella\"])\n",
        "    elif 150 <= pd.to_numeric(row['Precio']) >= 100 :\n",
        "        return np.random.choice([\"Barcelona\", \"Madrid\", \"A Coruña\", \"Segovia\", \"Pontevedra\"])\n",
        "    elif 100 <= pd.to_numeric(row['Precio']) >= 70 :\n",
        "        return np.random.choice([\"Valladolid\", \"Burgos\", \"Salamanca\", \"Tarragona\", \"León\"])\n",
        "    \n",
        "    else:\n",
        "        return np.random.choice(['Ávila', 'Palencia' ,'Soria','Zamora'  ,'Lleida'  ,'Ourense', 'Lugo'])\n",
        "\n",
        "\n",
        "da['Ciudad'] = da.apply(location, axis=1)\n",
        "# Mostrar resultado\n",
        "da"
      ],
      "metadata": {
        "colab": {
          "base_uri": "https://localhost:8080/",
          "height": 411
        },
        "id": "Om3VeFkvnDHW",
        "outputId": "f03237d5-0e33-46e1-a540-8ae5e2b63a0f"
      },
      "execution_count": 83,
      "outputs": [
        {
          "output_type": "execute_result",
          "data": {
            "text/plain": [
              "     Kimc  Estrellas  M^2    Resenas Piscina Parking Terraza Aire Wifi  \\\n",
              "0      ML          5   58  MUY BUENO      SI      SI      NO   SI   NO   \n",
              "1       L          3   27    REGULAR      SI      NO      SI   SI   NO   \n",
              "2      ML          1   44  MUY BUENO      NO      SI      SI   SI   NO   \n",
              "3      ML          3   82    REGULAR      SI      SI      SI   NO   SI   \n",
              "4      RC          4    9      BUENO      SI      SI      NO   NO   SI   \n",
              "...   ...        ...  ...        ...     ...     ...     ...  ...  ...   \n",
              "1995    L          4   60       MALO      SI      NO      SI   NO   SI   \n",
              "1996   RC          2    6       MALO      NO      NO      SI   NO   NO   \n",
              "1997   ML          2   55       MALO      NO      NO      SI   SI   NO   \n",
              "1998   RC          2   25  MUY BUENO      NO      NO      NO   SI   SI   \n",
              "1999    L          2   10    REGULAR      NO      NO      NO   SI   NO   \n",
              "\n",
              "         Precio  Punto de interés Tipo de cama    Ciudad  \n",
              "0     79.058001         46.285456        1D/2I    Zamora  \n",
              "1     40.000000         13.516389        1D/2I   Ourense  \n",
              "2     75.000000         20.293402        1D/2I      Lugo  \n",
              "3     79.058001         50.375799        1D/2I      Lugo  \n",
              "4     50.000000         22.545358        1D/2I     Ávila  \n",
              "...         ...               ...          ...       ...  \n",
              "1995  69.000000         40.136368        1D/2I  Palencia  \n",
              "1996  66.000000         73.173745           3I     Ávila  \n",
              "1997  70.000000         77.314821           1D    Lleida  \n",
              "1998  71.000000         50.845878        1D/2I     Ávila  \n",
              "1999  47.000000         97.271466           2I    Zamora  \n",
              "\n",
              "[2000 rows x 13 columns]"
            ],
            "text/html": [
              "\n",
              "  <div id=\"df-8854b7e0-e78b-48c8-9181-74102003d279\">\n",
              "    <div class=\"colab-df-container\">\n",
              "      <div>\n",
              "<style scoped>\n",
              "    .dataframe tbody tr th:only-of-type {\n",
              "        vertical-align: middle;\n",
              "    }\n",
              "\n",
              "    .dataframe tbody tr th {\n",
              "        vertical-align: top;\n",
              "    }\n",
              "\n",
              "    .dataframe thead th {\n",
              "        text-align: right;\n",
              "    }\n",
              "</style>\n",
              "<table border=\"1\" class=\"dataframe\">\n",
              "  <thead>\n",
              "    <tr style=\"text-align: right;\">\n",
              "      <th></th>\n",
              "      <th>Kimc</th>\n",
              "      <th>Estrellas</th>\n",
              "      <th>M^2</th>\n",
              "      <th>Resenas</th>\n",
              "      <th>Piscina</th>\n",
              "      <th>Parking</th>\n",
              "      <th>Terraza</th>\n",
              "      <th>Aire</th>\n",
              "      <th>Wifi</th>\n",
              "      <th>Precio</th>\n",
              "      <th>Punto de interés</th>\n",
              "      <th>Tipo de cama</th>\n",
              "      <th>Ciudad</th>\n",
              "    </tr>\n",
              "  </thead>\n",
              "  <tbody>\n",
              "    <tr>\n",
              "      <th>0</th>\n",
              "      <td>ML</td>\n",
              "      <td>5</td>\n",
              "      <td>58</td>\n",
              "      <td>MUY BUENO</td>\n",
              "      <td>SI</td>\n",
              "      <td>SI</td>\n",
              "      <td>NO</td>\n",
              "      <td>SI</td>\n",
              "      <td>NO</td>\n",
              "      <td>79.058001</td>\n",
              "      <td>46.285456</td>\n",
              "      <td>1D/2I</td>\n",
              "      <td>Zamora</td>\n",
              "    </tr>\n",
              "    <tr>\n",
              "      <th>1</th>\n",
              "      <td>L</td>\n",
              "      <td>3</td>\n",
              "      <td>27</td>\n",
              "      <td>REGULAR</td>\n",
              "      <td>SI</td>\n",
              "      <td>NO</td>\n",
              "      <td>SI</td>\n",
              "      <td>SI</td>\n",
              "      <td>NO</td>\n",
              "      <td>40.000000</td>\n",
              "      <td>13.516389</td>\n",
              "      <td>1D/2I</td>\n",
              "      <td>Ourense</td>\n",
              "    </tr>\n",
              "    <tr>\n",
              "      <th>2</th>\n",
              "      <td>ML</td>\n",
              "      <td>1</td>\n",
              "      <td>44</td>\n",
              "      <td>MUY BUENO</td>\n",
              "      <td>NO</td>\n",
              "      <td>SI</td>\n",
              "      <td>SI</td>\n",
              "      <td>SI</td>\n",
              "      <td>NO</td>\n",
              "      <td>75.000000</td>\n",
              "      <td>20.293402</td>\n",
              "      <td>1D/2I</td>\n",
              "      <td>Lugo</td>\n",
              "    </tr>\n",
              "    <tr>\n",
              "      <th>3</th>\n",
              "      <td>ML</td>\n",
              "      <td>3</td>\n",
              "      <td>82</td>\n",
              "      <td>REGULAR</td>\n",
              "      <td>SI</td>\n",
              "      <td>SI</td>\n",
              "      <td>SI</td>\n",
              "      <td>NO</td>\n",
              "      <td>SI</td>\n",
              "      <td>79.058001</td>\n",
              "      <td>50.375799</td>\n",
              "      <td>1D/2I</td>\n",
              "      <td>Lugo</td>\n",
              "    </tr>\n",
              "    <tr>\n",
              "      <th>4</th>\n",
              "      <td>RC</td>\n",
              "      <td>4</td>\n",
              "      <td>9</td>\n",
              "      <td>BUENO</td>\n",
              "      <td>SI</td>\n",
              "      <td>SI</td>\n",
              "      <td>NO</td>\n",
              "      <td>NO</td>\n",
              "      <td>SI</td>\n",
              "      <td>50.000000</td>\n",
              "      <td>22.545358</td>\n",
              "      <td>1D/2I</td>\n",
              "      <td>Ávila</td>\n",
              "    </tr>\n",
              "    <tr>\n",
              "      <th>...</th>\n",
              "      <td>...</td>\n",
              "      <td>...</td>\n",
              "      <td>...</td>\n",
              "      <td>...</td>\n",
              "      <td>...</td>\n",
              "      <td>...</td>\n",
              "      <td>...</td>\n",
              "      <td>...</td>\n",
              "      <td>...</td>\n",
              "      <td>...</td>\n",
              "      <td>...</td>\n",
              "      <td>...</td>\n",
              "      <td>...</td>\n",
              "    </tr>\n",
              "    <tr>\n",
              "      <th>1995</th>\n",
              "      <td>L</td>\n",
              "      <td>4</td>\n",
              "      <td>60</td>\n",
              "      <td>MALO</td>\n",
              "      <td>SI</td>\n",
              "      <td>NO</td>\n",
              "      <td>SI</td>\n",
              "      <td>NO</td>\n",
              "      <td>SI</td>\n",
              "      <td>69.000000</td>\n",
              "      <td>40.136368</td>\n",
              "      <td>1D/2I</td>\n",
              "      <td>Palencia</td>\n",
              "    </tr>\n",
              "    <tr>\n",
              "      <th>1996</th>\n",
              "      <td>RC</td>\n",
              "      <td>2</td>\n",
              "      <td>6</td>\n",
              "      <td>MALO</td>\n",
              "      <td>NO</td>\n",
              "      <td>NO</td>\n",
              "      <td>SI</td>\n",
              "      <td>NO</td>\n",
              "      <td>NO</td>\n",
              "      <td>66.000000</td>\n",
              "      <td>73.173745</td>\n",
              "      <td>3I</td>\n",
              "      <td>Ávila</td>\n",
              "    </tr>\n",
              "    <tr>\n",
              "      <th>1997</th>\n",
              "      <td>ML</td>\n",
              "      <td>2</td>\n",
              "      <td>55</td>\n",
              "      <td>MALO</td>\n",
              "      <td>NO</td>\n",
              "      <td>NO</td>\n",
              "      <td>SI</td>\n",
              "      <td>SI</td>\n",
              "      <td>NO</td>\n",
              "      <td>70.000000</td>\n",
              "      <td>77.314821</td>\n",
              "      <td>1D</td>\n",
              "      <td>Lleida</td>\n",
              "    </tr>\n",
              "    <tr>\n",
              "      <th>1998</th>\n",
              "      <td>RC</td>\n",
              "      <td>2</td>\n",
              "      <td>25</td>\n",
              "      <td>MUY BUENO</td>\n",
              "      <td>NO</td>\n",
              "      <td>NO</td>\n",
              "      <td>NO</td>\n",
              "      <td>SI</td>\n",
              "      <td>SI</td>\n",
              "      <td>71.000000</td>\n",
              "      <td>50.845878</td>\n",
              "      <td>1D/2I</td>\n",
              "      <td>Ávila</td>\n",
              "    </tr>\n",
              "    <tr>\n",
              "      <th>1999</th>\n",
              "      <td>L</td>\n",
              "      <td>2</td>\n",
              "      <td>10</td>\n",
              "      <td>REGULAR</td>\n",
              "      <td>NO</td>\n",
              "      <td>NO</td>\n",
              "      <td>NO</td>\n",
              "      <td>SI</td>\n",
              "      <td>NO</td>\n",
              "      <td>47.000000</td>\n",
              "      <td>97.271466</td>\n",
              "      <td>2I</td>\n",
              "      <td>Zamora</td>\n",
              "    </tr>\n",
              "  </tbody>\n",
              "</table>\n",
              "<p>2000 rows × 13 columns</p>\n",
              "</div>\n",
              "      <button class=\"colab-df-convert\" onclick=\"convertToInteractive('df-8854b7e0-e78b-48c8-9181-74102003d279')\"\n",
              "              title=\"Convert this dataframe to an interactive table.\"\n",
              "              style=\"display:none;\">\n",
              "        \n",
              "  <svg xmlns=\"http://www.w3.org/2000/svg\" height=\"24px\"viewBox=\"0 0 24 24\"\n",
              "       width=\"24px\">\n",
              "    <path d=\"M0 0h24v24H0V0z\" fill=\"none\"/>\n",
              "    <path d=\"M18.56 5.44l.94 2.06.94-2.06 2.06-.94-2.06-.94-.94-2.06-.94 2.06-2.06.94zm-11 1L8.5 8.5l.94-2.06 2.06-.94-2.06-.94L8.5 2.5l-.94 2.06-2.06.94zm10 10l.94 2.06.94-2.06 2.06-.94-2.06-.94-.94-2.06-.94 2.06-2.06.94z\"/><path d=\"M17.41 7.96l-1.37-1.37c-.4-.4-.92-.59-1.43-.59-.52 0-1.04.2-1.43.59L10.3 9.45l-7.72 7.72c-.78.78-.78 2.05 0 2.83L4 21.41c.39.39.9.59 1.41.59.51 0 1.02-.2 1.41-.59l7.78-7.78 2.81-2.81c.8-.78.8-2.07 0-2.86zM5.41 20L4 18.59l7.72-7.72 1.47 1.35L5.41 20z\"/>\n",
              "  </svg>\n",
              "      </button>\n",
              "      \n",
              "  <style>\n",
              "    .colab-df-container {\n",
              "      display:flex;\n",
              "      flex-wrap:wrap;\n",
              "      gap: 12px;\n",
              "    }\n",
              "\n",
              "    .colab-df-convert {\n",
              "      background-color: #E8F0FE;\n",
              "      border: none;\n",
              "      border-radius: 50%;\n",
              "      cursor: pointer;\n",
              "      display: none;\n",
              "      fill: #1967D2;\n",
              "      height: 32px;\n",
              "      padding: 0 0 0 0;\n",
              "      width: 32px;\n",
              "    }\n",
              "\n",
              "    .colab-df-convert:hover {\n",
              "      background-color: #E2EBFA;\n",
              "      box-shadow: 0px 1px 2px rgba(60, 64, 67, 0.3), 0px 1px 3px 1px rgba(60, 64, 67, 0.15);\n",
              "      fill: #174EA6;\n",
              "    }\n",
              "\n",
              "    [theme=dark] .colab-df-convert {\n",
              "      background-color: #3B4455;\n",
              "      fill: #D2E3FC;\n",
              "    }\n",
              "\n",
              "    [theme=dark] .colab-df-convert:hover {\n",
              "      background-color: #434B5C;\n",
              "      box-shadow: 0px 1px 3px 1px rgba(0, 0, 0, 0.15);\n",
              "      filter: drop-shadow(0px 1px 2px rgba(0, 0, 0, 0.3));\n",
              "      fill: #FFFFFF;\n",
              "    }\n",
              "  </style>\n",
              "\n",
              "      <script>\n",
              "        const buttonEl =\n",
              "          document.querySelector('#df-8854b7e0-e78b-48c8-9181-74102003d279 button.colab-df-convert');\n",
              "        buttonEl.style.display =\n",
              "          google.colab.kernel.accessAllowed ? 'block' : 'none';\n",
              "\n",
              "        async function convertToInteractive(key) {\n",
              "          const element = document.querySelector('#df-8854b7e0-e78b-48c8-9181-74102003d279');\n",
              "          const dataTable =\n",
              "            await google.colab.kernel.invokeFunction('convertToInteractive',\n",
              "                                                     [key], {});\n",
              "          if (!dataTable) return;\n",
              "\n",
              "          const docLinkHtml = 'Like what you see? Visit the ' +\n",
              "            '<a target=\"_blank\" href=https://colab.research.google.com/notebooks/data_table.ipynb>data table notebook</a>'\n",
              "            + ' to learn more about interactive tables.';\n",
              "          element.innerHTML = '';\n",
              "          dataTable['output_type'] = 'display_data';\n",
              "          await google.colab.output.renderOutput(dataTable, element);\n",
              "          const docLink = document.createElement('div');\n",
              "          docLink.innerHTML = docLinkHtml;\n",
              "          element.appendChild(docLink);\n",
              "        }\n",
              "      </script>\n",
              "    </div>\n",
              "  </div>\n",
              "  "
            ]
          },
          "metadata": {},
          "execution_count": 83
        }
      ]
    },
    {
      "cell_type": "markdown",
      "source": [
        "# Ejercicio"
      ],
      "metadata": {
        "id": "o0jZaDDFmiev"
      }
    },
    {
      "cell_type": "markdown",
      "source": [
        "Para realizar una predicción de las habitaciones de hotel se ha realizado un dataset con diferentes variables. Estas han sido escogidas porque se ha pensado que son las variables más importantes, o las más buscadas a la hora de reservar un hotel."
      ],
      "metadata": {
        "id": "CbWF5A0cmmSx"
      }
    },
    {
      "cell_type": "code",
      "source": [
        "dat1 = pd.read_csv('TABLA.csv', delimiter=';')\n",
        "dat2 = pd.read_csv('hoteles galicia.csv', delimiter=';')\n"
      ],
      "metadata": {
        "id": "mhqMOCeCsGCh"
      },
      "execution_count": 84,
      "outputs": []
    },
    {
      "cell_type": "code",
      "source": [
        "datos = pd.concat([dat1, dat2])\n",
        "datos"
      ],
      "metadata": {
        "colab": {
          "base_uri": "https://localhost:8080/",
          "height": 489
        },
        "id": "P5BnvzcUsf5v",
        "outputId": "177a2bc7-c412-4f10-a8a2-e94294481492"
      },
      "execution_count": 85,
      "outputs": [
        {
          "output_type": "execute_result",
          "data": {
            "text/plain": [
              "    Cod_H                          Nomho        Prov     Ciudad  \\\n",
              "0      67            THC Gran Via Hostel      Madrid     Madrid   \n",
              "1    4061            San Antonio El Real     Segovia    Segovia   \n",
              "2    4076         Hotel Parador de Ávila       Ávila      Ávila   \n",
              "3    4046          Palacio de Los Velada       Ávila      Ávila   \n",
              "4    4090              Hotel Don Rodrigo    Palencia   Palencia   \n",
              "..    ...                            ...         ...        ...   \n",
              "95    518           Gran Hotel de Ferrol     ACoruña     Ferrol   \n",
              "96    519             Pazo da Touza Golf  Pontevedra   OPorriño   \n",
              "97    520  Hotel Restaurante Casa Rosita        Lugo  OCebreiro   \n",
              "98    521                 Pazo da Merced        Lugo    Viveiro   \n",
              "99    522              Pazo de Bentraces     Ourense  Bentraces   \n",
              "\n",
              "                   CCAA Kimc  Estrellas  Reseñas Pisc Park  Ref  M2  Camas  \\\n",
              "0   Comunidad de Madrid   MC          1     MALO   NO   NO  0,6  11     1D   \n",
              "1       Castilla y León   MC          4  REGULAR   NO   SI  2,8  34  1D/2I   \n",
              "2       Castilla y León   RC          4  REGULAR   SI   SI  2,5  16     1D   \n",
              "3       Castilla y León   RC          4  REGULAR   SI   SI  3,2  32     1D   \n",
              "4       Castilla y León   RC          2  REGULAR   NO   SI  3,5  12     1D   \n",
              "..                  ...  ...        ...      ...  ...  ...  ...  ..    ...   \n",
              "95              Galicia   RC          4    BUENO   No   Sí  0,5  25     2I   \n",
              "96              Galicia   RC          3    BUENO   Sí   Sí  0,5  18     2I   \n",
              "97              Galicia   MC          2  REGULAR   No   Sí  0,1  14     2I   \n",
              "98              Galicia   RC          3    BUENO   Sí   Sí    1  20     2I   \n",
              "99              Galicia   MC          2  REGULAR   No   Sí  0,1  12     2I   \n",
              "\n",
              "   Terraza  Precio Aire Wifi  \n",
              "0        NO     65   SI   SI  \n",
              "1        SI    101   SI   SI  \n",
              "2        SI    100   SI   SI  \n",
              "3        NO     62   SI   NO  \n",
              "4        NO     55   SI   SI  \n",
              "..      ...    ...  ...  ...  \n",
              "95       Sí    100   Sí   Sí  \n",
              "96       Sí     80   Sí   Sí  \n",
              "97       Sí     40   Sí   Sí  \n",
              "98       Sí     90   Sí   Sí  \n",
              "99       Sí     50   Sí   Sí  \n",
              "\n",
              "[523 rows x 17 columns]"
            ],
            "text/html": [
              "\n",
              "  <div id=\"df-bc8bb70b-4cb6-417d-825e-f8f159e9cd6d\">\n",
              "    <div class=\"colab-df-container\">\n",
              "      <div>\n",
              "<style scoped>\n",
              "    .dataframe tbody tr th:only-of-type {\n",
              "        vertical-align: middle;\n",
              "    }\n",
              "\n",
              "    .dataframe tbody tr th {\n",
              "        vertical-align: top;\n",
              "    }\n",
              "\n",
              "    .dataframe thead th {\n",
              "        text-align: right;\n",
              "    }\n",
              "</style>\n",
              "<table border=\"1\" class=\"dataframe\">\n",
              "  <thead>\n",
              "    <tr style=\"text-align: right;\">\n",
              "      <th></th>\n",
              "      <th>Cod_H</th>\n",
              "      <th>Nomho</th>\n",
              "      <th>Prov</th>\n",
              "      <th>Ciudad</th>\n",
              "      <th>CCAA</th>\n",
              "      <th>Kimc</th>\n",
              "      <th>Estrellas</th>\n",
              "      <th>Reseñas</th>\n",
              "      <th>Pisc</th>\n",
              "      <th>Park</th>\n",
              "      <th>Ref</th>\n",
              "      <th>M2</th>\n",
              "      <th>Camas</th>\n",
              "      <th>Terraza</th>\n",
              "      <th>Precio</th>\n",
              "      <th>Aire</th>\n",
              "      <th>Wifi</th>\n",
              "    </tr>\n",
              "  </thead>\n",
              "  <tbody>\n",
              "    <tr>\n",
              "      <th>0</th>\n",
              "      <td>67</td>\n",
              "      <td>THC Gran Via Hostel</td>\n",
              "      <td>Madrid</td>\n",
              "      <td>Madrid</td>\n",
              "      <td>Comunidad de Madrid</td>\n",
              "      <td>MC</td>\n",
              "      <td>1</td>\n",
              "      <td>MALO</td>\n",
              "      <td>NO</td>\n",
              "      <td>NO</td>\n",
              "      <td>0,6</td>\n",
              "      <td>11</td>\n",
              "      <td>1D</td>\n",
              "      <td>NO</td>\n",
              "      <td>65</td>\n",
              "      <td>SI</td>\n",
              "      <td>SI</td>\n",
              "    </tr>\n",
              "    <tr>\n",
              "      <th>1</th>\n",
              "      <td>4061</td>\n",
              "      <td>San Antonio El Real</td>\n",
              "      <td>Segovia</td>\n",
              "      <td>Segovia</td>\n",
              "      <td>Castilla y León</td>\n",
              "      <td>MC</td>\n",
              "      <td>4</td>\n",
              "      <td>REGULAR</td>\n",
              "      <td>NO</td>\n",
              "      <td>SI</td>\n",
              "      <td>2,8</td>\n",
              "      <td>34</td>\n",
              "      <td>1D/2I</td>\n",
              "      <td>SI</td>\n",
              "      <td>101</td>\n",
              "      <td>SI</td>\n",
              "      <td>SI</td>\n",
              "    </tr>\n",
              "    <tr>\n",
              "      <th>2</th>\n",
              "      <td>4076</td>\n",
              "      <td>Hotel Parador de Ávila</td>\n",
              "      <td>Ávila</td>\n",
              "      <td>Ávila</td>\n",
              "      <td>Castilla y León</td>\n",
              "      <td>RC</td>\n",
              "      <td>4</td>\n",
              "      <td>REGULAR</td>\n",
              "      <td>SI</td>\n",
              "      <td>SI</td>\n",
              "      <td>2,5</td>\n",
              "      <td>16</td>\n",
              "      <td>1D</td>\n",
              "      <td>SI</td>\n",
              "      <td>100</td>\n",
              "      <td>SI</td>\n",
              "      <td>SI</td>\n",
              "    </tr>\n",
              "    <tr>\n",
              "      <th>3</th>\n",
              "      <td>4046</td>\n",
              "      <td>Palacio de Los Velada</td>\n",
              "      <td>Ávila</td>\n",
              "      <td>Ávila</td>\n",
              "      <td>Castilla y León</td>\n",
              "      <td>RC</td>\n",
              "      <td>4</td>\n",
              "      <td>REGULAR</td>\n",
              "      <td>SI</td>\n",
              "      <td>SI</td>\n",
              "      <td>3,2</td>\n",
              "      <td>32</td>\n",
              "      <td>1D</td>\n",
              "      <td>NO</td>\n",
              "      <td>62</td>\n",
              "      <td>SI</td>\n",
              "      <td>NO</td>\n",
              "    </tr>\n",
              "    <tr>\n",
              "      <th>4</th>\n",
              "      <td>4090</td>\n",
              "      <td>Hotel Don Rodrigo</td>\n",
              "      <td>Palencia</td>\n",
              "      <td>Palencia</td>\n",
              "      <td>Castilla y León</td>\n",
              "      <td>RC</td>\n",
              "      <td>2</td>\n",
              "      <td>REGULAR</td>\n",
              "      <td>NO</td>\n",
              "      <td>SI</td>\n",
              "      <td>3,5</td>\n",
              "      <td>12</td>\n",
              "      <td>1D</td>\n",
              "      <td>NO</td>\n",
              "      <td>55</td>\n",
              "      <td>SI</td>\n",
              "      <td>SI</td>\n",
              "    </tr>\n",
              "    <tr>\n",
              "      <th>...</th>\n",
              "      <td>...</td>\n",
              "      <td>...</td>\n",
              "      <td>...</td>\n",
              "      <td>...</td>\n",
              "      <td>...</td>\n",
              "      <td>...</td>\n",
              "      <td>...</td>\n",
              "      <td>...</td>\n",
              "      <td>...</td>\n",
              "      <td>...</td>\n",
              "      <td>...</td>\n",
              "      <td>...</td>\n",
              "      <td>...</td>\n",
              "      <td>...</td>\n",
              "      <td>...</td>\n",
              "      <td>...</td>\n",
              "      <td>...</td>\n",
              "    </tr>\n",
              "    <tr>\n",
              "      <th>95</th>\n",
              "      <td>518</td>\n",
              "      <td>Gran Hotel de Ferrol</td>\n",
              "      <td>ACoruña</td>\n",
              "      <td>Ferrol</td>\n",
              "      <td>Galicia</td>\n",
              "      <td>RC</td>\n",
              "      <td>4</td>\n",
              "      <td>BUENO</td>\n",
              "      <td>No</td>\n",
              "      <td>Sí</td>\n",
              "      <td>0,5</td>\n",
              "      <td>25</td>\n",
              "      <td>2I</td>\n",
              "      <td>Sí</td>\n",
              "      <td>100</td>\n",
              "      <td>Sí</td>\n",
              "      <td>Sí</td>\n",
              "    </tr>\n",
              "    <tr>\n",
              "      <th>96</th>\n",
              "      <td>519</td>\n",
              "      <td>Pazo da Touza Golf</td>\n",
              "      <td>Pontevedra</td>\n",
              "      <td>OPorriño</td>\n",
              "      <td>Galicia</td>\n",
              "      <td>RC</td>\n",
              "      <td>3</td>\n",
              "      <td>BUENO</td>\n",
              "      <td>Sí</td>\n",
              "      <td>Sí</td>\n",
              "      <td>0,5</td>\n",
              "      <td>18</td>\n",
              "      <td>2I</td>\n",
              "      <td>Sí</td>\n",
              "      <td>80</td>\n",
              "      <td>Sí</td>\n",
              "      <td>Sí</td>\n",
              "    </tr>\n",
              "    <tr>\n",
              "      <th>97</th>\n",
              "      <td>520</td>\n",
              "      <td>Hotel Restaurante Casa Rosita</td>\n",
              "      <td>Lugo</td>\n",
              "      <td>OCebreiro</td>\n",
              "      <td>Galicia</td>\n",
              "      <td>MC</td>\n",
              "      <td>2</td>\n",
              "      <td>REGULAR</td>\n",
              "      <td>No</td>\n",
              "      <td>Sí</td>\n",
              "      <td>0,1</td>\n",
              "      <td>14</td>\n",
              "      <td>2I</td>\n",
              "      <td>Sí</td>\n",
              "      <td>40</td>\n",
              "      <td>Sí</td>\n",
              "      <td>Sí</td>\n",
              "    </tr>\n",
              "    <tr>\n",
              "      <th>98</th>\n",
              "      <td>521</td>\n",
              "      <td>Pazo da Merced</td>\n",
              "      <td>Lugo</td>\n",
              "      <td>Viveiro</td>\n",
              "      <td>Galicia</td>\n",
              "      <td>RC</td>\n",
              "      <td>3</td>\n",
              "      <td>BUENO</td>\n",
              "      <td>Sí</td>\n",
              "      <td>Sí</td>\n",
              "      <td>1</td>\n",
              "      <td>20</td>\n",
              "      <td>2I</td>\n",
              "      <td>Sí</td>\n",
              "      <td>90</td>\n",
              "      <td>Sí</td>\n",
              "      <td>Sí</td>\n",
              "    </tr>\n",
              "    <tr>\n",
              "      <th>99</th>\n",
              "      <td>522</td>\n",
              "      <td>Pazo de Bentraces</td>\n",
              "      <td>Ourense</td>\n",
              "      <td>Bentraces</td>\n",
              "      <td>Galicia</td>\n",
              "      <td>MC</td>\n",
              "      <td>2</td>\n",
              "      <td>REGULAR</td>\n",
              "      <td>No</td>\n",
              "      <td>Sí</td>\n",
              "      <td>0,1</td>\n",
              "      <td>12</td>\n",
              "      <td>2I</td>\n",
              "      <td>Sí</td>\n",
              "      <td>50</td>\n",
              "      <td>Sí</td>\n",
              "      <td>Sí</td>\n",
              "    </tr>\n",
              "  </tbody>\n",
              "</table>\n",
              "<p>523 rows × 17 columns</p>\n",
              "</div>\n",
              "      <button class=\"colab-df-convert\" onclick=\"convertToInteractive('df-bc8bb70b-4cb6-417d-825e-f8f159e9cd6d')\"\n",
              "              title=\"Convert this dataframe to an interactive table.\"\n",
              "              style=\"display:none;\">\n",
              "        \n",
              "  <svg xmlns=\"http://www.w3.org/2000/svg\" height=\"24px\"viewBox=\"0 0 24 24\"\n",
              "       width=\"24px\">\n",
              "    <path d=\"M0 0h24v24H0V0z\" fill=\"none\"/>\n",
              "    <path d=\"M18.56 5.44l.94 2.06.94-2.06 2.06-.94-2.06-.94-.94-2.06-.94 2.06-2.06.94zm-11 1L8.5 8.5l.94-2.06 2.06-.94-2.06-.94L8.5 2.5l-.94 2.06-2.06.94zm10 10l.94 2.06.94-2.06 2.06-.94-2.06-.94-.94-2.06-.94 2.06-2.06.94z\"/><path d=\"M17.41 7.96l-1.37-1.37c-.4-.4-.92-.59-1.43-.59-.52 0-1.04.2-1.43.59L10.3 9.45l-7.72 7.72c-.78.78-.78 2.05 0 2.83L4 21.41c.39.39.9.59 1.41.59.51 0 1.02-.2 1.41-.59l7.78-7.78 2.81-2.81c.8-.78.8-2.07 0-2.86zM5.41 20L4 18.59l7.72-7.72 1.47 1.35L5.41 20z\"/>\n",
              "  </svg>\n",
              "      </button>\n",
              "      \n",
              "  <style>\n",
              "    .colab-df-container {\n",
              "      display:flex;\n",
              "      flex-wrap:wrap;\n",
              "      gap: 12px;\n",
              "    }\n",
              "\n",
              "    .colab-df-convert {\n",
              "      background-color: #E8F0FE;\n",
              "      border: none;\n",
              "      border-radius: 50%;\n",
              "      cursor: pointer;\n",
              "      display: none;\n",
              "      fill: #1967D2;\n",
              "      height: 32px;\n",
              "      padding: 0 0 0 0;\n",
              "      width: 32px;\n",
              "    }\n",
              "\n",
              "    .colab-df-convert:hover {\n",
              "      background-color: #E2EBFA;\n",
              "      box-shadow: 0px 1px 2px rgba(60, 64, 67, 0.3), 0px 1px 3px 1px rgba(60, 64, 67, 0.15);\n",
              "      fill: #174EA6;\n",
              "    }\n",
              "\n",
              "    [theme=dark] .colab-df-convert {\n",
              "      background-color: #3B4455;\n",
              "      fill: #D2E3FC;\n",
              "    }\n",
              "\n",
              "    [theme=dark] .colab-df-convert:hover {\n",
              "      background-color: #434B5C;\n",
              "      box-shadow: 0px 1px 3px 1px rgba(0, 0, 0, 0.15);\n",
              "      filter: drop-shadow(0px 1px 2px rgba(0, 0, 0, 0.3));\n",
              "      fill: #FFFFFF;\n",
              "    }\n",
              "  </style>\n",
              "\n",
              "      <script>\n",
              "        const buttonEl =\n",
              "          document.querySelector('#df-bc8bb70b-4cb6-417d-825e-f8f159e9cd6d button.colab-df-convert');\n",
              "        buttonEl.style.display =\n",
              "          google.colab.kernel.accessAllowed ? 'block' : 'none';\n",
              "\n",
              "        async function convertToInteractive(key) {\n",
              "          const element = document.querySelector('#df-bc8bb70b-4cb6-417d-825e-f8f159e9cd6d');\n",
              "          const dataTable =\n",
              "            await google.colab.kernel.invokeFunction('convertToInteractive',\n",
              "                                                     [key], {});\n",
              "          if (!dataTable) return;\n",
              "\n",
              "          const docLinkHtml = 'Like what you see? Visit the ' +\n",
              "            '<a target=\"_blank\" href=https://colab.research.google.com/notebooks/data_table.ipynb>data table notebook</a>'\n",
              "            + ' to learn more about interactive tables.';\n",
              "          element.innerHTML = '';\n",
              "          dataTable['output_type'] = 'display_data';\n",
              "          await google.colab.output.renderOutput(dataTable, element);\n",
              "          const docLink = document.createElement('div');\n",
              "          docLink.innerHTML = docLinkHtml;\n",
              "          element.appendChild(docLink);\n",
              "        }\n",
              "      </script>\n",
              "    </div>\n",
              "  </div>\n",
              "  "
            ]
          },
          "metadata": {},
          "execution_count": 85
        }
      ]
    },
    {
      "cell_type": "markdown",
      "source": [
        "Las variables son: \n",
        "\n",
        "*   **Codigo**: Se ha impuesto un código para la facilitación a la hora de guardar el dataframe. \n",
        "*   **Hotel**: El nombre del Hotel. \n",
        "*   **Provincia**, **Ciudad** y **CCAA**: Variables para ver dónde se ubican los hoteles. \n",
        "*   **Reseñas**: variable categórica que mide las puntuaciones que tiene el hotel. \n",
        "*   **Piscina**, **Parking**, **Wifi**, **Terraza** y **Aire**: son variables categóricas que presentan las comididades que tiene un hotel.\n",
        "*   **Tipo de cama**: variable categórica que mide las diferentes camas que da a ofrecer el hotel.\n",
        "*   **Punto de interés**: kilómetros a un luegar de interés de la ciudad.\n",
        "*   **Kimc**: variable categórica que mide si el hotel está lejos de la ciudad.\n",
        "*   **Precio**: la variable objetivo. \n",
        "\n"
      ],
      "metadata": {
        "id": "mpABE--_m4tq"
      }
    },
    {
      "cell_type": "code",
      "source": [
        "datos.columns = [\"Codigo\",\"Hotel\", \"Provincia\", \"Ciudad\", \"CCAA\",\n",
        "                 \"Kimc\", \"Estrellas\", \"Resenas\", \n",
        "                 \"Piscina\", \"Parking\", \"Punto de interés\", \"M^2\",\n",
        "                 \"Tipo de cama\", \"Terraza\", \"Precio\",\n",
        "                 \"Aire\", \"Wifi\"]\n"
      ],
      "metadata": {
        "id": "0gGDXHn3smZG"
      },
      "execution_count": 86,
      "outputs": []
    },
    {
      "cell_type": "code",
      "source": [
        "df = pd.concat([da, datos])\n"
      ],
      "metadata": {
        "id": "QvOzPIORzEPe"
      },
      "execution_count": 87,
      "outputs": []
    },
    {
      "cell_type": "code",
      "source": [
        "df = df.drop('Codigo', axis=1)\n",
        "df = df.drop('Hotel', axis=1)\n",
        "df = df.drop('Provincia', axis=1)\n",
        "df = df.drop('CCAA', axis=1)\n"
      ],
      "metadata": {
        "id": "RLfkc9tbzNgZ"
      },
      "execution_count": 88,
      "outputs": []
    },
    {
      "cell_type": "markdown",
      "source": [
        "## Preparación de los datos"
      ],
      "metadata": {
        "id": "unSPVWAAZl9I"
      }
    },
    {
      "cell_type": "markdown",
      "source": [
        "Este apartado consiste en la preparación de los datos. Observaremos si las etiquetas de los datos estan bien, que no haya duplicaciones o que existan varias etiquetas que quieran decir lo mismo."
      ],
      "metadata": {
        "id": "WZ2qPvB1G1S0"
      }
    },
    {
      "cell_type": "code",
      "source": [
        "un = df['Estrellas'].unique()"
      ],
      "metadata": {
        "id": "G65h90up1kbA"
      },
      "execution_count": 89,
      "outputs": []
    },
    {
      "cell_type": "code",
      "source": [
        "print(df['Estrellas'].value_counts())\n",
        "\n",
        "# Contar cuántas filas tienen un valor de 0 en la columna\n",
        "num_zeros = (df['Estrellas'] == 0).sum()\n",
        "print(\"Número de filas con valor de 0: \", num_zeros)"
      ],
      "metadata": {
        "colab": {
          "base_uri": "https://localhost:8080/"
        },
        "id": "yKOXd13812n0",
        "outputId": "7482efc8-6ff0-4e8b-f485-0404726abae2"
      },
      "execution_count": 90,
      "outputs": [
        {
          "output_type": "stream",
          "name": "stdout",
          "text": [
            "4    657\n",
            "3    504\n",
            "5    492\n",
            "2    471\n",
            "1    397\n",
            "0      2\n",
            "Name: Estrellas, dtype: int64\n",
            "Número de filas con valor de 0:  2\n"
          ]
        }
      ]
    },
    {
      "cell_type": "code",
      "source": [
        "df.loc[df['Estrellas'] == '0', 'Estrellas'] = '1'"
      ],
      "metadata": {
        "id": "AZIG9NFM2CLa"
      },
      "execution_count": 91,
      "outputs": []
    },
    {
      "cell_type": "code",
      "source": [
        "df.loc[df['Kimc'] == 'RL', 'Kimc'] = 'L'"
      ],
      "metadata": {
        "id": "KW3fu02q2GbQ"
      },
      "execution_count": 92,
      "outputs": []
    },
    {
      "cell_type": "code",
      "source": [
        "un = df['Kimc'].unique()"
      ],
      "metadata": {
        "id": "LTiVGLqt5EKg"
      },
      "execution_count": 93,
      "outputs": []
    },
    {
      "cell_type": "code",
      "source": [
        "un = df['Piscina'].unique()"
      ],
      "metadata": {
        "id": "5fegxoMB5HPn"
      },
      "execution_count": 94,
      "outputs": []
    },
    {
      "cell_type": "code",
      "source": [
        "df.loc[df['Piscina'] == 'No', 'Piscina'] = 'NO'\n",
        "df.loc[df['Piscina'] == 'Sí', 'Piscina'] = 'SI'\n",
        "df.loc[df['Aire'] == 'No', 'Aire'] = 'NO'\n",
        "df.loc[df['Aire'] == 'Sí', 'Aire'] = 'SI'\n",
        "df.loc[df['Wifi'] == 'No', 'Wifi'] = 'NO'\n",
        "df.loc[df['Wifi'] == 'Sí', 'Wifi'] = 'SI'\n",
        "df.loc[df['Wifi'] == ' Sí', 'Wifi'] = 'SI'\n",
        "df.loc[df['Parking'] == 'No', 'Parking'] = 'NO'\n",
        "df.loc[df['Parking'] == 'Sí', 'Parking'] = 'SI'\n",
        "df.loc[df['Parking'] == ' NO', 'Parking'] = 'NO'\n",
        "df.loc[df['Terraza'] == 'No', 'Terraza'] = 'NO'\n",
        "df.loc[df['Terraza'] == 'Sí', 'Terraza'] = 'SI'"
      ],
      "metadata": {
        "id": "YHEvUbtM5Oq5"
      },
      "execution_count": 95,
      "outputs": []
    },
    {
      "cell_type": "code",
      "source": [
        "df['Precio'] = df['Precio'].astype(str).apply(lambda x: float(x.replace(',', '.')))\n",
        "df['Punto de interés'] = df['Punto de interés'].astype(str).apply(lambda x: float(x.replace(',', '.')))"
      ],
      "metadata": {
        "id": "cyCfHmU_zfhT"
      },
      "execution_count": 96,
      "outputs": []
    },
    {
      "cell_type": "code",
      "source": [
        "plt.boxplot(df['Precio'])\n",
        "\n",
        "# Etiqueta del eje y\n",
        "plt.ylabel('Precio')\n",
        "\n",
        "# Mostrar el diagrama de caja\n",
        "plt.show()"
      ],
      "metadata": {
        "colab": {
          "base_uri": "https://localhost:8080/",
          "height": 448
        },
        "id": "swiVjFWSzcfW",
        "outputId": "a6ae38bf-3a69-4e1f-97fd-bce2cb241804"
      },
      "execution_count": 97,
      "outputs": [
        {
          "output_type": "display_data",
          "data": {
            "text/plain": [
              "<Figure size 640x480 with 1 Axes>"
            ],
            "image/png": "[encoded data removed]"
          },
          "metadata": {}
        }
      ]
    },
    {
      "cell_type": "code",
      "source": [
        "fig, ax = plt.subplots(nrows=1, ncols=1, figsize=(6, 3))\n",
        "sns.histplot(data=df, x='Estrellas', kde=True,ax=ax)\n",
        "ax.set_title(\"Distribución de las Estrellas\")\n",
        "ax.set_xlabel('Estrellas');"
      ],
      "metadata": {
        "colab": {
          "base_uri": "https://localhost:8080/",
          "height": 361
        },
        "id": "Jz8SAk9fznHt",
        "outputId": "acff849a-ca32-42a5-cb0a-e8eccf66e8b3"
      },
      "execution_count": 98,
      "outputs": [
        {
          "output_type": "display_data",
          "data": {
            "text/plain": [
              "<Figure size 600x300 with 1 Axes>"
            ],
            "image/png": "[encoded data removed]"
          },
          "metadata": {}
        }
      ]
    },
    {
      "cell_type": "code",
      "source": [
        "fig, ax = plt.subplots(nrows=1, ncols=1, figsize=(6, 3))\n",
        "sns.histplot(data=df, x='Punto de interés', color='red', kde=True,ax=ax)\n",
        "ax.set_title(\"Distribución del punto de interés\")\n",
        "ax.set_xlabel('Punto de interés');"
      ],
      "metadata": {
        "colab": {
          "base_uri": "https://localhost:8080/",
          "height": 363
        },
        "id": "Lg-Q_wdV7AfB",
        "outputId": "f7091d8e-08d1-4a64-a6e6-e97fe59c3584"
      },
      "execution_count": 99,
      "outputs": [
        {
          "output_type": "display_data",
          "data": {
            "text/plain": [
              "<Figure size 600x300 with 1 Axes>"
            ],
            "image/png": "[encoded data removed]"
          },
          "metadata": {}
        }
      ]
    },
    {
      "cell_type": "code",
      "source": [
        "fig, ax = plt.subplots(nrows=1, ncols=1, figsize=(6, 3))\n",
        "sns.histplot(data=df, x='M^2', kde=True,color='green',ax=ax)\n",
        "ax.set_title(\"Distribución de LOS M^2\")\n",
        "ax.set_xlabel('M^2');"
      ],
      "metadata": {
        "colab": {
          "base_uri": "https://localhost:8080/",
          "height": 361
        },
        "id": "T44ghFFyzqBm",
        "outputId": "11369234-6e1d-4fbc-c5b4-6cb0c44d5d70"
      },
      "execution_count": 100,
      "outputs": [
        {
          "output_type": "display_data",
          "data": {
            "text/plain": [
              "<Figure size 600x300 with 1 Axes>"
            ],
            "image/png": "[encoded data removed]"
          },
          "metadata": {}
        }
      ]
    },
    {
      "cell_type": "code",
      "source": [
        "df.loc[df['Ciudad'] == 'Acoruña', 'Ciudad'] = 'A coruña'\n",
        "df.loc[df['Parking'] == ' NO', 'Parking'] = 'NO'\n",
        "df.loc[df['Tipo de cama'] == '2D/2I', 'Tipo de cama'] = '1D/2I'\n",
        "df.loc[df['Tipo de cama'] == '2D/2D', 'Tipo de cama'] = '1D/2I'\n",
        "df.loc[df['Tipo de cama'] == '1D/2D', 'Tipo de cama'] = '1D/2I'"
      ],
      "metadata": {
        "id": "-qiw8An_0o7J"
      },
      "execution_count": 101,
      "outputs": []
    },
    {
      "cell_type": "markdown",
      "source": [
        "## Probando diferentes modelos"
      ],
      "metadata": {
        "id": "J0BDKZKZJFmW"
      }
    },
    {
      "cell_type": "markdown",
      "source": [
        "### Primer modelo"
      ],
      "metadata": {
        "id": "G7DcuYKOOzjO"
      }
    },
    {
      "cell_type": "markdown",
      "source": [
        "Lo que primero hay que realizar es separar las variables que necesitamos para realizar el modelo de la **variable objetivo**. Los dataframes serán X, el que entrenaremos (en todos los casos) e y el dataframe que pertenece a la variable objetivo."
      ],
      "metadata": {
        "id": "nSkO9ZVFO1ee"
      }
    },
    {
      "cell_type": "code",
      "source": [
        "# Separar la variable objetivo de las características\n",
        "X = df.drop('Precio', axis=1)  # características\n",
        "y = df['Precio']  # variable objetivo"
      ],
      "metadata": {
        "id": "hhcEQFNNM8dR"
      },
      "execution_count": 102,
      "outputs": []
    },
    {
      "cell_type": "markdown",
      "source": [
        "Se va a realizar es una transformación en los datos con la función *LabelEncoder*. Lo que realiza esta función (dicho fácilmente), es ortogar un número aleatorio a una variable categórica, por ejemplo, a la columna de Ciudad, se lo ortoga el número 1 a Barcelona (es un ejemplo!), y así sucesivamente. **Esta transformación se realiza para todas aquellas columnas categóricas**. "
      ],
      "metadata": {
        "id": "Szd1SL6kPD1w"
      }
    },
    {
      "cell_type": "code",
      "source": [
        "from sklearn.preprocessing import LabelEncoder\n",
        "le = LabelEncoder()\n",
        "for col in X.columns: #Cambiar los strings del dataframe de x\n",
        "    if X[col].dtype == 'object':\n",
        "        X[col] = le.fit_transform(X[col])"
      ],
      "metadata": {
        "id": "Jli4J-yJbQFZ"
      },
      "execution_count": 103,
      "outputs": []
    },
    {
      "cell_type": "markdown",
      "source": [
        "Se empieza realizando una **regresión lineal múltiple**. Es una clase de regresión lineal que se utiliza para ajustar un modelo lineal a un conjunto de datos de entrenamiento y hacer predicciones en un conjunto de datos de prueba.\n",
        "\n",
        "Esta función utiliza el método de **mínimos cuadrados ordinarios** para ajustar una línea recta a los datos de entrenamiento. \n",
        "Debemos de saber que si nuestra regresión no forma, una línea recta, el modelo no va ajustar bien los datos y por tanto, no va a salir un buen modelo. \n"
      ],
      "metadata": {
        "id": "WUQmIxZRVcSj"
      }
    },
    {
      "cell_type": "code",
      "source": [
        "import pandas as pd\n",
        "import numpy as np\n",
        "import seaborn as sns\n",
        "import matplotlib.pyplot as plt\n",
        "from sklearn.model_selection import train_test_split\n",
        "from sklearn.linear_model import LinearRegression\n",
        "from sklearn.preprocessing import PolynomialFeatures\n",
        "from sklearn.metrics import r2_score, mean_squared_error\n",
        "# Dividir los datos en conjuntos de entrenamiento y prueba\n",
        "X_train, X_test, y_train, y_test = train_test_split(X, y, test_size=0.2, random_state=123)\n",
        "\n",
        "# Crear un objeto de modelo de regresión lineal\n",
        "model = LinearRegression()\n",
        "\n",
        "# Entrenar el modelo en los datos de entrenamiento\n",
        "model.fit(X_train, y_train)\n",
        "\n",
        "# Realizar predicciones en los datos de prueba\n",
        "y_pred = model.predict(X_test)\n",
        "\n",
        "# Evaluar el modelo utilizando R2 y MSE\n",
        "print(\"R2: \", r2_score(y_test, y_pred))\n",
        "print(\"MSE: \", mean_squared_error(y_test, y_pred))"
      ],
      "metadata": {
        "colab": {
          "base_uri": "https://localhost:8080/"
        },
        "id": "0A-8F4hSU_HO",
        "outputId": "bc6af982-81d7-40fa-decc-bc196a505970"
      },
      "execution_count": 104,
      "outputs": [
        {
          "output_type": "stream",
          "name": "stdout",
          "text": [
            "R2:  0.15677365407205757\n",
            "MSE:  8987.395541634782\n"
          ]
        }
      ]
    },
    {
      "cell_type": "markdown",
      "source": [
        "Nos fijamos en el valor de R^2, este valor tiene un rango de [0,1] y cuánto más cerca de 1 esté mejor predice nuestro modelo. \n",
        "\n",
        "Se observa que el valor de R^2 de este modelo es muy bajo, esto puede pasar porque los datos no se distribuyen de una manera lineal y por eso el modelo no se ajuta bien a ellos. *Nota*: es lo que se piensa."
      ],
      "metadata": {
        "id": "qtHBTfgYZP3C"
      }
    },
    {
      "cell_type": "markdown",
      "source": [
        "Con cada modelo que se realize se va a crear una predicción. Esta será:\n",
        "\n",
        "Un hotel en Mallorca, relativamente cerca de la ciudad, con una habitación de 50 metros cuadrados, las reseñas que le ortoga Google son buenas, sin piscina, con parking, terraza, aire y wifi, con la playa a 6.8 kilómetros y con habitación con cama doble. "
      ],
      "metadata": {
        "id": "h5uAQ7zbZ7YO"
      }
    },
    {
      "cell_type": "code",
      "source": [
        "nuevo_dato = np.array([3,4,50,0,0,1,1,1,1,6.8,0,82]).reshape(1, -1)\n",
        "\n",
        "# Luego, pasas tus datos al modelo para hacer la predicción\n",
        "prediccion = model.predict(nuevo_dato)\n",
        "\n",
        "# La variable \"prediccion\" contendrá el valor predicho por el modelo para tus datos\n",
        "prediccion\n"
      ],
      "metadata": {
        "colab": {
          "base_uri": "https://localhost:8080/"
        },
        "id": "4rAaxIN0XSEY",
        "outputId": "9b1a3a58-6650-45db-efb0-cd8fb615759e"
      },
      "execution_count": 105,
      "outputs": [
        {
          "output_type": "stream",
          "name": "stderr",
          "text": [
            "/usr/local/lib/python3.10/dist-packages/sklearn/base.py:439: UserWarning: X does not have valid feature names, but LinearRegression was fitted with feature names\n",
            "  warnings.warn(\n"
          ]
        },
        {
          "output_type": "execute_result",
          "data": {
            "text/plain": [
              "array([144.44741532])"
            ]
          },
          "metadata": {},
          "execution_count": 105
        }
      ]
    },
    {
      "cell_type": "markdown",
      "source": [
        "El modelo de regresión a predicho que el hotel va a tener un precio de 144,10€. Según las características del hotel el precio va acorde con estas, así que aunque el R^2 no sea bueno, se concluye que no predice tan mal como se esperaba. \n",
        "\n",
        "Como las características son muy obvias, es decir, una habitación de 50 metros cuadrados en Mallorca, y con todas las comodidades, el precio es más que razonable. \n",
        "\n",
        "Se va a realizar de otra manera. Si se cambian las características a otras el precio debería variar. El hotel a predecir va a ser un hotel en Ávila, relativamente cerca de la ciudad con tres estrellas, una habitación de 20 metros cuadrados, las reseñas de Google son regulares, sin ninguna de las comodidades, y con dos camas individuales."
      ],
      "metadata": {
        "id": "0ftSJwXsbGV2"
      }
    },
    {
      "cell_type": "code",
      "source": [
        "nuevo_dato = np.array([3,3,20,3,0,0,0,0,0,10,2,180]).reshape(1, -1)\n",
        "\n",
        "# Luego, pasas tus datos al modelo para hacer la predicción\n",
        "prediccion = model.predict(nuevo_dato)\n",
        "\n",
        "# La variable \"prediccion\" contendrá el valor predicho por el modelo para tus datos\n",
        "prediccion\n"
      ],
      "metadata": {
        "colab": {
          "base_uri": "https://localhost:8080/"
        },
        "id": "bhvetSmjI3zt",
        "outputId": "8e78521b-c7d7-493d-bf3a-48619b45d087"
      },
      "execution_count": 106,
      "outputs": [
        {
          "output_type": "stream",
          "name": "stderr",
          "text": [
            "/usr/local/lib/python3.10/dist-packages/sklearn/base.py:439: UserWarning: X does not have valid feature names, but LinearRegression was fitted with feature names\n",
            "  warnings.warn(\n"
          ]
        },
        {
          "output_type": "execute_result",
          "data": {
            "text/plain": [
              "array([46.08760615])"
            ]
          },
          "metadata": {},
          "execution_count": 106
        }
      ]
    },
    {
      "cell_type": "markdown",
      "source": [
        "Se observa que el precio varía bastante, 46€ por noche, en un hotel de 3 estrellas se conluye que está bien. "
      ],
      "metadata": {
        "id": "tH4VKGDEJgPd"
      }
    },
    {
      "cell_type": "markdown",
      "source": [
        "### Segundo modelo"
      ],
      "metadata": {
        "id": "KBmOBPivbZyq"
      }
    },
    {
      "cell_type": "markdown",
      "source": [
        "Anteriormente se ha comentado que igual la regresión lineal múltiple no se ajustaba bien porque los datos no son lineales. Así que se va a realizar otro modelo. Va a seguir la función **PolynomialFeatures** que se utiliza para generar nuevas características polinomiales a partir de las características originales de un conjunto de datos.\n",
        "\n",
        "Lo que realmente hace esta función es tranformar las características originales a un conjunto de mayor grado. Si la característica es x, la función crea una nueva característica x^2. Esto permite modelar relaciones no lineales entre las características y la variable objetivo.\n",
        "\n",
        "\n",
        "Se vuelve a cargar la base de datos para que no interfiera el modelo pasado."
      ],
      "metadata": {
        "id": "X6w_brUGbnKK"
      }
    },
    {
      "cell_type": "code",
      "source": [
        "# Separar la variable objetivo de las características\n",
        "X = df.drop('Precio', axis=1)  # características\n",
        "y = df['Precio']  # variable objetivo"
      ],
      "metadata": {
        "id": "drOSf4S6cLXF"
      },
      "execution_count": 107,
      "outputs": []
    },
    {
      "cell_type": "markdown",
      "source": [
        "Se vuelve a realizar la misma transformación de los datos con la función *LabelEncoder*."
      ],
      "metadata": {
        "id": "Argug0zZcUAe"
      }
    },
    {
      "cell_type": "code",
      "source": [
        "from sklearn.preprocessing import LabelEncoder\n",
        "le = LabelEncoder()\n",
        "for col in X.columns: #Cambiar los strings del dataframe de x\n",
        "    if X[col].dtype == 'object':\n",
        "        X[col] = le.fit_transform(X[col])"
      ],
      "metadata": {
        "id": "MIsP84GycM2E"
      },
      "execution_count": 108,
      "outputs": []
    },
    {
      "cell_type": "code",
      "source": [
        "import pandas as pd\n",
        "import numpy as np\n",
        "import seaborn as sns\n",
        "import matplotlib.pyplot as plt\n",
        "from sklearn.model_selection import train_test_split\n",
        "from sklearn.linear_model import LinearRegression\n",
        "from sklearn.preprocessing import PolynomialFeatures\n",
        "from sklearn.metrics import r2_score, mean_squared_error\n",
        "\n",
        "X_train, X_test, y_train, y_test = train_test_split(X, y, test_size=0.3, random_state=42)\n",
        "\n",
        "# Crear un objeto de modelo de regresión polinomial de segundo grado\n",
        "\n",
        "poly = PolynomialFeatures(degree=2)\n",
        "X_train_poly = poly.fit_transform(X_train)\n",
        "X_test_poly = poly.transform(X_test)\n",
        "modelo = LinearRegression()\n",
        "\n",
        "# Ajustar el modelo a los datos de entrenamiento\n",
        "\n",
        "modelo.fit(X_train_poly, y_train)\n",
        "\n",
        "# Hacer predicciones con el modelo\n",
        "\n",
        "y_pred = modelo.predict(X_test_poly)\n",
        "\n",
        "# Calcular el R^2 y el error cuadrático medio de las predicciones\n",
        "\n",
        "r2 = r2_score(y_test, y_pred)\n",
        "mse = mean_squared_error(y_test, y_pred)\n",
        "print(f\"R^2: {r2}\")\n",
        "print(f\"MSE: {mse}\")"
      ],
      "metadata": {
        "colab": {
          "base_uri": "https://localhost:8080/"
        },
        "id": "5kVR32EwhdZc",
        "outputId": "20f4c217-07b3-489c-b2ac-c02355ae6b20"
      },
      "execution_count": 109,
      "outputs": [
        {
          "output_type": "stream",
          "name": "stdout",
          "text": [
            "R^2: 0.40486285928274124\n",
            "MSE: 2541.5950661484744\n"
          ]
        }
      ]
    },
    {
      "cell_type": "markdown",
      "source": [
        "El valor del R^2 a crecido bastante respecto al anterior.\n",
        "\n",
        "Se va a volver a predecir lo mismo que en el modelo anterior, para visualizar si vemos alguna diferencia con el otro algoritmo.\n",
        "\n",
        "Un hotel en Mallorca, relativamente cerca de la ciudad, con una habitación de 50 metros cuadrados, las reseñas que le ortoga Google son buenas, sin piscina, con parking, terraza, aire y wifi, con la playa a 6.8 kilómetros y con habitación con cama doble. "
      ],
      "metadata": {
        "id": "2neoSN-jcwbw"
      }
    },
    {
      "cell_type": "code",
      "source": [
        "# Crear un conjunto de datos de prueba para hacer predicciones\n",
        "X_prueba = np.array([[3,4,50,0,0,1,1,1,1,6.8,0,82]])\n",
        "\n",
        "# Transformar los datos de prueba utilizando PolynomialFeatures\n",
        "X_prueba_poly = poly.transform(X_prueba)\n",
        "\n",
        "# Hacer predicciones con el modelo\n",
        "y_prueba_pred = modelo.predict(X_prueba_poly)\n",
        "\n",
        "# Ver las predicciones resultantes\n",
        "print(y_prueba_pred)"
      ],
      "metadata": {
        "colab": {
          "base_uri": "https://localhost:8080/"
        },
        "id": "P-bzGNQPbb-A",
        "outputId": "9c722f36-e747-4cc3-f22c-02a9feac3ac1"
      },
      "execution_count": 110,
      "outputs": [
        {
          "output_type": "stream",
          "name": "stdout",
          "text": [
            "[143.16852524]\n"
          ]
        },
        {
          "output_type": "stream",
          "name": "stderr",
          "text": [
            "/usr/local/lib/python3.10/dist-packages/sklearn/base.py:439: UserWarning: X does not have valid feature names, but PolynomialFeatures was fitted with feature names\n",
            "  warnings.warn(\n"
          ]
        }
      ]
    },
    {
      "cell_type": "markdown",
      "source": [
        "Esta función otorga un valor de 143.15€ al hotel. \n",
        "\n",
        "Apenas varía el precio con el modelo anterior. Se va a predecir otro hotel diferente para ver si sigue el mismo formato que el anterior, ya que se ha dicho que el precio de un hotel en Mallorca es bastante evidente y más en las épocas de verano.\n",
        "\n",
        "Como se ha realizado anteriormente: el hotel a predecir va a ser un hotel en Ávila, relativamente cerca de la ciudad con tres estrellas, una habitación de 20 metros cuadrados, las reseñas de Google son regulares, sin ninguna de las comodidades, y con dos camas individuales."
      ],
      "metadata": {
        "id": "bN4GodqVc0Pv"
      }
    },
    {
      "cell_type": "code",
      "source": [
        "# Crear un conjunto de datos de prueba para hacer predicciones\n",
        "X_prueba = np.array([[3,3,20,3,0,0,0,0,0,10,2,180]])\n",
        "\n",
        "# Transformar los datos de prueba utilizando PolynomialFeatures\n",
        "X_prueba_poly = poly.transform(X_prueba)\n",
        "\n",
        "# Hacer predicciones con el modelo\n",
        "y_prueba_pred = modelo.predict(X_prueba_poly)\n",
        "\n",
        "# Ver las predicciones resultantes\n",
        "print(y_prueba_pred)"
      ],
      "metadata": {
        "colab": {
          "base_uri": "https://localhost:8080/"
        },
        "id": "n1TB0V08KAyi",
        "outputId": "0848fb41-4343-43db-d8fd-1d796a3607ef"
      },
      "execution_count": 111,
      "outputs": [
        {
          "output_type": "stream",
          "name": "stdout",
          "text": [
            "[35.45640707]\n"
          ]
        },
        {
          "output_type": "stream",
          "name": "stderr",
          "text": [
            "/usr/local/lib/python3.10/dist-packages/sklearn/base.py:439: UserWarning: X does not have valid feature names, but PolynomialFeatures was fitted with feature names\n",
            "  warnings.warn(\n"
          ]
        }
      ]
    },
    {
      "cell_type": "markdown",
      "source": [
        "Este precio nos parece más apropiado para el hotel en cuestión, ya que aunque tenga 3 estrellas, el hotel no proporciona ninguna comodidad."
      ],
      "metadata": {
        "id": "FV00Mz2iLFik"
      }
    },
    {
      "cell_type": "markdown",
      "source": [
        "### Tercer modelo"
      ],
      "metadata": {
        "id": "PXcKcFX5duBq"
      }
    },
    {
      "cell_type": "markdown",
      "source": [
        "Se va a realizar un **modelo de regresión utilizando un algoritmo de Random Forest**.\n",
        "\n",
        "Estes un método de aprendizaje automático supervisado. Realiza un conjunto de árboles de decisión, donde cada árbol se entrena con una muestra aleatoria de los datos y utiliza una selección aleatoria de características. \n",
        "\n",
        "La función contiene unos parámetros.\n",
        "*  **N_estimators**: Indica el número de árboles de decisión en el bosque.\n",
        "*  **Max_depth**: Controla la profundidad máxima de cada árbol.\n",
        "*  **Random_state**: Establece una semilla para la generación de números aleatorios.\n",
        "\n",
        "\n",
        "Se vuelve a cargar la base de datos, y se separa en dos dataframes como se ha comentado antes. "
      ],
      "metadata": {
        "id": "Kc-qaRRueKrP"
      }
    },
    {
      "cell_type": "code",
      "source": [
        "# Separar la variable objetivo de las características\n",
        "X = df.drop('Precio', axis=1)  # características\n",
        "y = df['Precio']  # variable objetivo\n"
      ],
      "metadata": {
        "id": "lXCvi4O0NU0D"
      },
      "execution_count": 112,
      "outputs": []
    },
    {
      "cell_type": "code",
      "source": [
        "from sklearn.preprocessing import LabelEncoder\n",
        "le = LabelEncoder()\n",
        "for col in X.columns: #Cambiar los strings del dataframe de x\n",
        "    if X[col].dtype == 'object':\n",
        "        X[col] = le.fit_transform(X[col])"
      ],
      "metadata": {
        "id": "oDh9oUtPNZ-x"
      },
      "execution_count": 113,
      "outputs": []
    },
    {
      "cell_type": "code",
      "source": [
        "from sklearn.ensemble import RandomForestRegressor\n",
        "from sklearn.model_selection import train_test_split\n",
        "from sklearn.metrics import mean_squared_error, r2_score\n",
        "import numpy as np\n",
        "\n",
        "X_train, X_test, y_train, y_test = train_test_split(X, y, test_size=0.2, random_state=123)\n",
        "\n",
        "# Crear un objeto de modelo de regresión de bosques aleatorios\n",
        "model2 = RandomForestRegressor(n_estimators=100, max_depth=5, random_state=123)\n",
        "\n",
        "# Entrenar el modelo en los datos de entrenamiento\n",
        "model2.fit(X_train, y_train)\n",
        "\n",
        "# Realizar predicciones en los datos de prueba\n",
        "y_pred = model2.predict(X_test)\n",
        "\n",
        "# Evaluar el modelo utilizando R2 y MSE\n",
        "print(\"R2: \", r2_score(y_test, y_pred))\n",
        "print(\"MSE: \", mean_squared_error(y_test, y_pred))"
      ],
      "metadata": {
        "colab": {
          "base_uri": "https://localhost:8080/"
        },
        "id": "KwOs3CriKI-I",
        "outputId": "d97fa2ed-d1a4-4eac-91c5-ab1e73631b69"
      },
      "execution_count": 114,
      "outputs": [
        {
          "output_type": "stream",
          "name": "stdout",
          "text": [
            "R2:  0.39902650797367434\n",
            "MSE:  6405.381554977696\n"
          ]
        }
      ]
    },
    {
      "cell_type": "markdown",
      "source": [
        "El valor del R^2 en este modelo mejora más que el primero pero no más que el segundo.\n",
        "\n",
        "Observamos que tal precide el algoritmo. Los hoteles a predecir van a ser los mismos en todos los casos, el siguiente hotel es de Mallorca"
      ],
      "metadata": {
        "id": "LEejcG87fRMf"
      }
    },
    {
      "cell_type": "code",
      "source": [
        "nuevo_dato = np.array([3, 4,100,0,0,1,1,1,1,6.8,0,82]).reshape(1, -1)\n",
        "\n",
        "# Luego, pasas tus datos al modelo para hacer la predicción\n",
        "prediccion2 = model2.predict(nuevo_dato)\n",
        "\n",
        "# La variable \"prediccion\" contendrá el valor predicho por el modelo para tus datos\n",
        "prediccion2"
      ],
      "metadata": {
        "colab": {
          "base_uri": "https://localhost:8080/"
        },
        "id": "VTJZh8nJf04E",
        "outputId": "da7d5982-82c0-45fa-c9e6-5e7b8fd5d456"
      },
      "execution_count": 115,
      "outputs": [
        {
          "output_type": "stream",
          "name": "stderr",
          "text": [
            "/usr/local/lib/python3.10/dist-packages/sklearn/base.py:439: UserWarning: X does not have valid feature names, but RandomForestRegressor was fitted with feature names\n",
            "  warnings.warn(\n"
          ]
        },
        {
          "output_type": "execute_result",
          "data": {
            "text/plain": [
              "array([79.92149659])"
            ]
          },
          "metadata": {},
          "execution_count": 115
        }
      ]
    },
    {
      "cell_type": "markdown",
      "source": [
        "Se conluye que el precio varía bastante y debería ser mayor al predicho. Easte algoritmo se puede descartar."
      ],
      "metadata": {
        "id": "cAWdeqgfguLB"
      }
    },
    {
      "cell_type": "code",
      "source": [
        "nuevo_dato = np.array([3,3,20,3,0,0,0,0,0,10,2,180]).reshape(1, -1)\n",
        "\n",
        "# Luego, pasas tus datos al modelo para hacer la predicción\n",
        "prediccion2 = model2.predict(nuevo_dato)\n",
        "\n",
        "# La variable \"prediccion\" contendrá el valor predicho por el modelo para tus datos\n",
        "prediccion2\n"
      ],
      "metadata": {
        "colab": {
          "base_uri": "https://localhost:8080/"
        },
        "id": "IF_2pH8xLPam",
        "outputId": "a0bc2b7e-f5e6-4b47-dd30-f36b769a1220"
      },
      "execution_count": 116,
      "outputs": [
        {
          "output_type": "stream",
          "name": "stderr",
          "text": [
            "/usr/local/lib/python3.10/dist-packages/sklearn/base.py:439: UserWarning: X does not have valid feature names, but RandomForestRegressor was fitted with feature names\n",
            "  warnings.warn(\n"
          ]
        },
        {
          "output_type": "execute_result",
          "data": {
            "text/plain": [
              "array([57.09123124])"
            ]
          },
          "metadata": {},
          "execution_count": 116
        }
      ]
    },
    {
      "cell_type": "markdown",
      "source": [
        "Que la diferencia de los dos hoteles sea tan pequeña, afirma la hipótesis de que no nos funciona dicho algoritmo. "
      ],
      "metadata": {
        "id": "fCP8Agl9MIbO"
      }
    },
    {
      "cell_type": "markdown",
      "source": [
        "### Cuarto modelo"
      ],
      "metadata": {
        "id": "F_obSdwAhWdW"
      }
    },
    {
      "cell_type": "markdown",
      "source": [
        "Para el cuarto modelo se utiliza el **algoritmo de XGBoost**, otro algoritmo que utiliza árboles de decisión para la predicción. Este utiliza una técnica 'Boosting' para crear un conjunto de modelos débiles, donde cada modelo intenta corregir los errores del modelo anterior. Así los árboles son capaces de ajustarse a los errores anteriores, creando nuevos árboles con los errores corregidos.\n",
        "\n",
        "\n",
        "Se vuelve a crear la base de datos. "
      ],
      "metadata": {
        "id": "Jh1XnHm_jUTA"
      }
    },
    {
      "cell_type": "code",
      "source": [
        "# Separar la variable objetivo de las características\n",
        "X = df.drop('Precio', axis=1)  # características\n",
        "y = df['Precio']  # variable objetivo"
      ],
      "metadata": {
        "id": "ppQ6ZLoFhUic"
      },
      "execution_count": 117,
      "outputs": []
    },
    {
      "cell_type": "code",
      "source": [
        "from sklearn.preprocessing import LabelEncoder\n",
        "le = LabelEncoder()\n",
        "for col in X.columns: #Cambiar los strings del dataframe de x\n",
        "    if X[col].dtype == 'object':\n",
        "        X[col] = le.fit_transform(X[col])"
      ],
      "metadata": {
        "id": "SYtJXTtshVz6"
      },
      "execution_count": 118,
      "outputs": []
    },
    {
      "cell_type": "code",
      "source": [
        "import xgboost as xgb\n",
        "from sklearn.metrics import mean_squared_error, r2_score\n",
        "from sklearn.model_selection import train_test_split\n",
        "\n",
        "# Dividir el conjunto de datos en conjuntos de entrenamiento y prueba\n",
        "X_train, X_test, y_train, y_test = train_test_split(X, y, test_size=0.2, random_state=123)\n",
        "\n",
        "# Crear una matriz de datos DMatrix a partir de los datos de entrenamiento y prueba\n",
        "dtrain = xgb.DMatrix(X_train, label=y_train)\n",
        "dtest = xgb.DMatrix(X_test, label=y_test)\n",
        "\n",
        "# Establecer los parámetros del modelo\n",
        "params = {\n",
        "    'max_depth': 5,\n",
        "    'eta': 0.1,\n",
        "    'objective': 'reg:squarederror'\n",
        "}\n",
        "\n",
        "# Entrenar el modelo\n",
        "model3 = xgb.train(params, dtrain, num_boost_round=100)\n",
        "\n",
        "# Realizar predicciones en los datos de prueba\n",
        "y_pred = model3.predict(dtest)\n",
        "\n",
        "# Evaluar el modelo utilizando R2 y MSE\n",
        "print(\"R2: \", r2_score(y_test, y_pred))\n",
        "print(\"MSE: \", mean_squared_error(y_test, y_pred))\n"
      ],
      "metadata": {
        "colab": {
          "base_uri": "https://localhost:8080/"
        },
        "id": "pDaigTSGKYIe",
        "outputId": "622a089c-27b8-4c66-ff55-32836965ea81"
      },
      "execution_count": 119,
      "outputs": [
        {
          "output_type": "stream",
          "name": "stdout",
          "text": [
            "R2:  0.4895397253038076\n",
            "MSE:  5440.660647216383\n"
          ]
        }
      ]
    },
    {
      "cell_type": "markdown",
      "source": [
        "Este modelo es el modelo más alto de R^2.\n",
        "\n",
        "Para realizar la siguiente predicción es necesario la creación de una matriz. Ya que el modelo exige matrices. \n",
        "\n",
        "Pasamos a predecir."
      ],
      "metadata": {
        "id": "kuMw5ZaWm4AX"
      }
    },
    {
      "cell_type": "code",
      "source": [
        "import xgboost as xgb\n",
        "\n",
        "# Crear una lista con los valores de las variables\n",
        "new_data = [[3, 4, 50, 0, 0, 1, 1, 1, 1, 6.8, 0, 82]]\n",
        "\n",
        "# Crear un dataframe a partir de la lista de valores\n",
        "X_new = pd.DataFrame(new_data, columns=['Kimc', 'Estrellas', 'M^2', 'Resenas', 'Piscina', 'Parking', 'Terraza', 'Aire', 'Wifi', 'Punto de interés', 'Tipo de cama', 'Ciudad'])\n",
        "\n",
        "# Crear una matriz de datos DMatrix a partir del nuevo dataframe\n",
        "dnew = xgb.DMatrix(X_new)\n",
        "\n",
        "# Realizar predicciones con el modelo\n",
        "y_pred = model3.predict(dnew)\n",
        "\n",
        "# Imprimir las predicciones\n",
        "print(y_pred)\n"
      ],
      "metadata": {
        "colab": {
          "base_uri": "https://localhost:8080/"
        },
        "id": "GCzIEBa7hfcE",
        "outputId": "26e60658-6f0c-48ca-f3df-40bb63dcf41b"
      },
      "execution_count": 120,
      "outputs": [
        {
          "output_type": "stream",
          "name": "stdout",
          "text": [
            "[136.44936]\n"
          ]
        }
      ]
    },
    {
      "cell_type": "markdown",
      "source": [
        "El modelo ha ortogado un valor de 140.05€ al hotel. Un precio razonable."
      ],
      "metadata": {
        "id": "fsBBPNT5nQtJ"
      }
    },
    {
      "cell_type": "code",
      "source": [
        "# Crear una lista con los valores de las variables\n",
        "new_data = [[3,3,20,3,0,0,0,0,0,10,2,180]]\n",
        "\n",
        "# Crear un dataframe a partir de la lista de valores\n",
        "X_new = pd.DataFrame(new_data, columns=['Kimc', 'Estrellas', 'M^2', 'Resenas', 'Piscina', 'Parking', 'Terraza', 'Aire', 'Wifi', 'Punto de interés', 'Tipo de cama', 'Ciudad'])\n",
        "\n",
        "# Crear una matriz de datos DMatrix a partir del nuevo dataframe\n",
        "dnew = xgb.DMatrix(X_new)\n",
        "\n",
        "# Realizar predicciones con el modelo\n",
        "y_pred = model3.predict(dnew)\n",
        "\n",
        "# Imprimir las predicciones\n",
        "print(y_pred)"
      ],
      "metadata": {
        "colab": {
          "base_uri": "https://localhost:8080/"
        },
        "id": "GaZq9usaMjU0",
        "outputId": "d9d3a4a0-e9cc-49ee-cb51-267759eeb600"
      },
      "execution_count": 121,
      "outputs": [
        {
          "output_type": "stream",
          "name": "stdout",
          "text": [
            "[48.81418]\n"
          ]
        }
      ]
    },
    {
      "cell_type": "markdown",
      "source": [
        "El modelo ha predicho que el hotel de Ávila tiene un precio de 46€. Muy parecido al primer y segundo modelo. "
      ],
      "metadata": {
        "id": "SHxdb3zXMpq2"
      }
    },
    {
      "cell_type": "markdown",
      "source": [
        "### Quinto modelo"
      ],
      "metadata": {
        "id": "tBIWglc79I64"
      }
    },
    {
      "cell_type": "markdown",
      "source": [
        "Para este modelo se van a utilizar redes neuronales. "
      ],
      "metadata": {
        "id": "gCCGzvVkM4VG"
      }
    },
    {
      "cell_type": "code",
      "source": [
        "import pandas as pd\n",
        "import numpy as np\n",
        "from sklearn.model_selection import train_test_split\n",
        "from sklearn.preprocessing import StandardScaler, OneHotEncoder\n",
        "from sklearn.compose import ColumnTransformer\n",
        "from sklearn.pipeline import Pipeline\n",
        "from tensorflow.keras.models import Sequential\n",
        "from sklearn.preprocessing import LabelEncoder\n",
        "from tensorflow.keras.layers import Dense\n",
        "from tensorflow.keras.optimizers import Adam\n",
        "from sklearn.metrics import r2_score, mean_squared_error\n",
        "\n",
        "# Separar la variable objetivo de las características\n",
        "X = df.drop('Precio', axis=1)  # características\n",
        "y = df['Precio']  # variable objetivo\n",
        "\n",
        "\n",
        "le = LabelEncoder()\n",
        "for col in X.columns: #Cambiar los strings del dataframe de x\n",
        "    if X[col].dtype == 'object':\n",
        "        X[col] = le.fit_transform(X[col])\n",
        "\n",
        "\n",
        "# división de conjunto de entrenamiento y prueba\n",
        "train_data, test_data, train_targets, test_targets = train_test_split(X, y, test_size=0.2, random_state=42)\n",
        "\n",
        "numeric_transformer = Pipeline(steps=[\n",
        "    ('scaler', StandardScaler())\n",
        "])\n",
        "\n",
        "# preprocesamiento de características categóricas\n",
        "categorical_transformer = Pipeline(steps=[\n",
        "    ('onehot', OneHotEncoder(handle_unknown='ignore'))\n",
        "])\n",
        "\n",
        "# identificación de características numéricas y categóricas\n",
        "numeric_features = X.select_dtypes(include=['int64', 'float64']).columns\n",
        "categorical_features = X.select_dtypes(include=['object']).columns\n",
        "\n",
        "# preprocesamiento de características mediante ColumnTransformer\n",
        "preprocessor = ColumnTransformer(transformers=[\n",
        "    ('num', numeric_transformer, numeric_features),\n",
        "    ('cat', categorical_transformer, categorical_features)\n",
        "])\n",
        "\n",
        "# construcción del modelo de redes neuronales\n",
        "model = Sequential([\n",
        "    Dense(32, input_shape=(preprocessor.fit_transform(train_data).shape[1],), activation='relu'),\n",
        "    Dense(16, activation='relu'),\n",
        "    Dense(1, activation='linear')\n",
        "])\n",
        "\n",
        "# compilación del modelo\n",
        "model.compile(loss='mean_squared_error', optimizer=Adam(lr=0.001))\n",
        "\n",
        "# entrenamiento del modelo\n",
        "model.fit(preprocessor.fit_transform(train_data), train_targets, epochs=50, batch_size=32, verbose=1)\n",
        "\n",
        "# evaluación del modelo\n",
        "y_pred = model.predict(preprocessor.transform(test_data))\n",
        "print('R^2:', r2_score(test_targets, y_pred))\n",
        "print('MSE:', mean_squared_error(test_targets, y_pred)) "
      ],
      "metadata": {
        "colab": {
          "base_uri": "https://localhost:8080/"
        },
        "id": "H8Hh9dVO8Dfg",
        "outputId": "4aacba84-2646-4319-dd0b-8823f9783b35"
      },
      "execution_count": 122,
      "outputs": [
        {
          "output_type": "stream",
          "name": "stderr",
          "text": [
            "WARNING:absl:`lr` is deprecated in Keras optimizer, please use `learning_rate` or use the legacy optimizer, e.g.,tf.keras.optimizers.legacy.Adam.\n"
          ]
        },
        {
          "output_type": "stream",
          "name": "stdout",
          "text": [
            "Epoch 1/50\n",
            "64/64 [==============================] - 3s 2ms/step - loss: 16004.4219\n",
            "Epoch 2/50\n",
            "64/64 [==============================] - 0s 2ms/step - loss: 15257.5615\n",
            "Epoch 3/50\n",
            "64/64 [==============================] - 0s 2ms/step - loss: 13400.7754\n",
            "Epoch 4/50\n",
            "64/64 [==============================] - 0s 2ms/step - loss: 10263.0244\n",
            "Epoch 5/50\n",
            "64/64 [==============================] - 0s 2ms/step - loss: 7261.6421\n",
            "Epoch 6/50\n",
            "64/64 [==============================] - 0s 2ms/step - loss: 5765.8232\n",
            "Epoch 7/50\n",
            "64/64 [==============================] - 0s 3ms/step - loss: 5267.2578\n",
            "Epoch 8/50\n",
            "64/64 [==============================] - 0s 2ms/step - loss: 5096.3828\n",
            "Epoch 9/50\n",
            "64/64 [==============================] - 0s 3ms/step - loss: 5019.9731\n",
            "Epoch 10/50\n",
            "64/64 [==============================] - 0s 3ms/step - loss: 4989.7031\n",
            "Epoch 11/50\n",
            "64/64 [==============================] - 0s 2ms/step - loss: 4941.8477\n",
            "Epoch 12/50\n",
            "64/64 [==============================] - 0s 2ms/step - loss: 4905.4521\n",
            "Epoch 13/50\n",
            "64/64 [==============================] - 0s 2ms/step - loss: 4876.1636\n",
            "Epoch 14/50\n",
            "64/64 [==============================] - 0s 2ms/step - loss: 4862.8838\n",
            "Epoch 15/50\n",
            "64/64 [==============================] - 0s 2ms/step - loss: 4842.4473\n",
            "Epoch 16/50\n",
            "64/64 [==============================] - 0s 2ms/step - loss: 4820.9653\n",
            "Epoch 17/50\n",
            "64/64 [==============================] - 0s 2ms/step - loss: 4801.6680\n",
            "Epoch 18/50\n",
            "64/64 [==============================] - 0s 2ms/step - loss: 4794.0483\n",
            "Epoch 19/50\n",
            "64/64 [==============================] - 0s 2ms/step - loss: 4777.6650\n",
            "Epoch 20/50\n",
            "64/64 [==============================] - 0s 2ms/step - loss: 4773.9053\n",
            "Epoch 21/50\n",
            "64/64 [==============================] - 0s 2ms/step - loss: 4757.3052\n",
            "Epoch 22/50\n",
            "64/64 [==============================] - 0s 2ms/step - loss: 4748.0605\n",
            "Epoch 23/50\n",
            "64/64 [==============================] - 0s 2ms/step - loss: 4736.6250\n",
            "Epoch 24/50\n",
            "64/64 [==============================] - 0s 2ms/step - loss: 4727.7295\n",
            "Epoch 25/50\n",
            "64/64 [==============================] - 0s 1ms/step - loss: 4719.3359\n",
            "Epoch 26/50\n",
            "64/64 [==============================] - 0s 1ms/step - loss: 4717.7661\n",
            "Epoch 27/50\n",
            "64/64 [==============================] - 0s 2ms/step - loss: 4713.0996\n",
            "Epoch 28/50\n",
            "64/64 [==============================] - 0s 2ms/step - loss: 4696.6851\n",
            "Epoch 29/50\n",
            "64/64 [==============================] - 0s 2ms/step - loss: 4694.5884\n",
            "Epoch 30/50\n",
            "64/64 [==============================] - 0s 2ms/step - loss: 4682.5913\n",
            "Epoch 31/50\n",
            "64/64 [==============================] - 0s 1ms/step - loss: 4681.2275\n",
            "Epoch 32/50\n",
            "64/64 [==============================] - 0s 2ms/step - loss: 4670.1450\n",
            "Epoch 33/50\n",
            "64/64 [==============================] - 0s 2ms/step - loss: 4659.2021\n",
            "Epoch 34/50\n",
            "64/64 [==============================] - 0s 2ms/step - loss: 4660.9600\n",
            "Epoch 35/50\n",
            "64/64 [==============================] - 0s 2ms/step - loss: 4652.0664\n",
            "Epoch 36/50\n",
            "64/64 [==============================] - 0s 2ms/step - loss: 4648.3252\n",
            "Epoch 37/50\n",
            "64/64 [==============================] - 0s 2ms/step - loss: 4636.8857\n",
            "Epoch 38/50\n",
            "64/64 [==============================] - 0s 2ms/step - loss: 4639.8174\n",
            "Epoch 39/50\n",
            "64/64 [==============================] - 0s 2ms/step - loss: 4626.8096\n",
            "Epoch 40/50\n",
            "64/64 [==============================] - 0s 2ms/step - loss: 4650.5581\n",
            "Epoch 41/50\n",
            "64/64 [==============================] - 0s 2ms/step - loss: 4618.9131\n",
            "Epoch 42/50\n",
            "64/64 [==============================] - 0s 2ms/step - loss: 4610.0547\n",
            "Epoch 43/50\n",
            "64/64 [==============================] - 0s 2ms/step - loss: 4604.8345\n",
            "Epoch 44/50\n",
            "64/64 [==============================] - 0s 2ms/step - loss: 4599.7964\n",
            "Epoch 45/50\n",
            "64/64 [==============================] - 0s 3ms/step - loss: 4604.5630\n",
            "Epoch 46/50\n",
            "64/64 [==============================] - 0s 2ms/step - loss: 4585.8721\n",
            "Epoch 47/50\n",
            "64/64 [==============================] - 0s 2ms/step - loss: 4581.3721\n",
            "Epoch 48/50\n",
            "64/64 [==============================] - 0s 2ms/step - loss: 4578.2393\n",
            "Epoch 49/50\n",
            "64/64 [==============================] - 0s 2ms/step - loss: 4572.8477\n",
            "Epoch 50/50\n",
            "64/64 [==============================] - 0s 2ms/step - loss: 4569.1567\n",
            "16/16 [==============================] - 0s 2ms/step\n",
            "R^2: 0.4127996329682042\n",
            "MSE: 2777.0827417391306\n"
          ]
        }
      ]
    },
    {
      "cell_type": "code",
      "source": [
        "# definir el nuevo dato de entrada\n",
        "nuevo_dato = pd.DataFrame({'Kimc': [3],\n",
        "                           'Estrellas': [4],\n",
        "                           'M^2': [50],\n",
        "                           'Resenas': [0],\n",
        "                           'Parking': [1],\n",
        "                           'Aire': [1],\n",
        "                           'Piscina': [0],\n",
        "                           'Terraza': [0],\n",
        "                           'Wifi': [1],\n",
        "                           'Punto de interés': [10],\n",
        "                           'Tipo de cama': [2],\n",
        "                           'Ciudad': [180]})\n",
        "\n",
        "# escalar las características numéricas del nuevo dato\n",
        "numeric_features = ['M^2', 'Estrellas', 'Punto de interés']\n",
        "scaler = StandardScaler()\n",
        "nuevo_dato[numeric_features] = scaler.fit_transform(nuevo_dato[numeric_features])\n",
        "\n",
        "# preprocesar el nuevo dato con ColumnTransformer\n",
        "nuevo_dato = preprocessor.transform(nuevo_dato)\n",
        "\n",
        "# hacer una predicción con el modelo entrenado\n",
        "prediccion = model.predict(nuevo_dato)\n",
        "\n",
        "# imprimir la predicción\n",
        "print('Precio predicho para el nuevo dato:', prediccion[0][0])"
      ],
      "metadata": {
        "colab": {
          "base_uri": "https://localhost:8080/"
        },
        "id": "KffAjYikReYk",
        "outputId": "4abceedc-2634-4e6c-eed7-cf78503e2ba8"
      },
      "execution_count": 123,
      "outputs": [
        {
          "output_type": "stream",
          "name": "stdout",
          "text": [
            "1/1 [==============================] - 0s 22ms/step\n",
            "Precio predicho para el nuevo dato: 50.69961\n"
          ]
        }
      ]
    },
    {
      "cell_type": "code",
      "source": [
        "# definir el nuevo dato de entrada\n",
        "nuevo_dato = pd.DataFrame({'Kimc': [3],\n",
        "                           'Estrellas': [3],\n",
        "                           'M^2': [50],\n",
        "                           'Resenas': [3],\n",
        "                           'Parking': [1],\n",
        "                           'Aire': [1],\n",
        "                           'Piscina': [0],\n",
        "                           'Terraza': [1],\n",
        "                           'Wifi': [1],\n",
        "                           'Punto de interés': [6.8],\n",
        "                           'Tipo de cama': [0],\n",
        "                           'Ciudad': [82]})\n",
        "\n",
        "# escalar las características numéricas del nuevo dato\n",
        "numeric_features = ['M^2', 'Estrellas', 'Punto de interés']\n",
        "scaler = StandardScaler()\n",
        "nuevo_dato[numeric_features] = scaler.fit_transform(nuevo_dato[numeric_features])\n",
        "\n",
        "# preprocesar el nuevo dato con ColumnTransformer\n",
        "nuevo_dato = preprocessor.transform(nuevo_dato)\n",
        "\n",
        "# hacer una predicción con el modelo entrenado\n",
        "prediccion = model.predict(nuevo_dato)\n",
        "\n",
        "# imprimir la predicción\n",
        "print('Precio predicho para el nuevo dato:', prediccion[0][0])"
      ],
      "metadata": {
        "colab": {
          "base_uri": "https://localhost:8080/"
        },
        "id": "LdJu7qQk9HuF",
        "outputId": "6fb3d9b8-5315-42a1-997a-9b061ea97636"
      },
      "execution_count": 124,
      "outputs": [
        {
          "output_type": "stream",
          "name": "stdout",
          "text": [
            "1/1 [==============================] - 0s 40ms/step\n",
            "Precio predicho para el nuevo dato: 73.52455\n"
          ]
        }
      ]
    },
    {
      "cell_type": "markdown",
      "source": [
        "### Sexto modelo"
      ],
      "metadata": {
        "id": "zf5WBRvdn6sJ"
      }
    },
    {
      "cell_type": "code",
      "source": [
        "import pandas as pd\n",
        "import numpy as np\n",
        "import tensorflow as tf\n",
        "from sklearn.model_selection import train_test_split\n",
        "from sklearn.preprocessing import StandardScaler, OneHotEncoder\n",
        "from sklearn.compose import ColumnTransformer\n",
        "from sklearn.pipeline import Pipeline\n",
        "from tensorflow.keras.models import Sequential\n",
        "from tensorflow.keras.layers import Dense\n",
        "from tensorflow.keras.optimizers import Adam\n",
        "from sklearn.metrics import r2_score, mean_squared_error\n",
        "\n",
        "# Separar la variable objetivo de las características\n",
        "X = df.drop('Precio', axis=1)  # características\n",
        "y = df['Precio']  # variable objetivo\n",
        "\n",
        "\n",
        "from sklearn.preprocessing import LabelEncoder\n",
        "le = LabelEncoder()\n",
        "for col in X.columns: #Cambiar los strings del dataframe de x\n",
        "    if X[col].dtype == 'object':\n",
        "        X[col] = le.fit_transform(X[col])\n",
        "\n",
        "\n",
        "# división de conjunto de entrenamiento y prueba\n",
        "X_train, X_test, y_train, y_test = train_test_split(X, y, test_size=0.2, random_state=42)\n",
        "\n",
        "# preprocesamiento de características numéricas\n",
        "numeric_transformer = Pipeline(steps=[\n",
        "    ('scaler', StandardScaler())\n",
        "])\n",
        "\n",
        "# preprocesamiento de características categóricas\n",
        "categorical_transformer = Pipeline(steps=[\n",
        "    ('onehot', OneHotEncoder(handle_unknown='ignore'))\n",
        "])\n",
        "\n",
        "# identificación de características numéricas y categóricas\n",
        "numeric_features = X.select_dtypes(include=['int64', 'float64']).columns\n",
        "categorical_features = X.select_dtypes(include=['object']).columns\n",
        "\n",
        "# preprocesamiento de características mediante ColumnTransformer\n",
        "preprocessor = ColumnTransformer(transformers=[\n",
        "    ('num', numeric_transformer, numeric_features),\n",
        "    ('cat', categorical_transformer, categorical_features)\n",
        "])\n",
        "\n",
        "# construcción del modelo de redes neuronales\n",
        "model = Sequential([\n",
        "    Dense(64, input_shape=(preprocessor.fit_transform(X_train).shape[1],), activation='relu'),\n",
        "    Dense(16, activation='relu'),\n",
        "    Dense(1)\n",
        "])\n",
        "\n",
        "# compilación del modelo\n",
        "model.compile(optimizer='rmsprop', loss='mse', metrics=[tf.keras.metrics.MeanAbsoluteError()])\n",
        "# entrenamiento del modelo\n",
        "model.fit(preprocessor.fit_transform(X_train), y_train, epochs=50, batch_size=32, verbose=1)\n",
        "\n",
        "# evaluación del modelo\n",
        "y_pred = model.predict(preprocessor.transform(X_test))\n",
        "print('R^2:', r2_score(y_test, y_pred))\n",
        "print('MSE:', mean_squared_error(y_test, y_pred))"
      ],
      "metadata": {
        "colab": {
          "base_uri": "https://localhost:8080/"
        },
        "id": "CLwwF2IWoFUj",
        "outputId": "20eb5b2b-325b-4b61-c1c1-a845e07e8fe0"
      },
      "execution_count": 127,
      "outputs": [
        {
          "output_type": "stream",
          "name": "stdout",
          "text": [
            "Epoch 1/50\n",
            "64/64 [==============================] - 1s 2ms/step - loss: 15408.4131 - mean_absolute_error: 92.7131\n",
            "Epoch 2/50\n",
            "64/64 [==============================] - 0s 2ms/step - loss: 13648.7480 - mean_absolute_error: 83.5435\n",
            "Epoch 3/50\n",
            "64/64 [==============================] - 0s 2ms/step - loss: 11055.5928 - mean_absolute_error: 69.2331\n",
            "Epoch 4/50\n",
            "64/64 [==============================] - 0s 2ms/step - loss: 8263.0469 - mean_absolute_error: 51.6012\n",
            "Epoch 5/50\n",
            "64/64 [==============================] - 0s 2ms/step - loss: 6116.0449 - mean_absolute_error: 38.3131\n",
            "Epoch 6/50\n",
            "64/64 [==============================] - 0s 2ms/step - loss: 5207.8926 - mean_absolute_error: 34.0573\n",
            "Epoch 7/50\n",
            "64/64 [==============================] - 0s 1ms/step - loss: 5038.9424 - mean_absolute_error: 33.8272\n",
            "Epoch 8/50\n",
            "64/64 [==============================] - 0s 2ms/step - loss: 4968.3555 - mean_absolute_error: 33.3983\n",
            "Epoch 9/50\n",
            "64/64 [==============================] - 0s 2ms/step - loss: 4922.9263 - mean_absolute_error: 33.2356\n",
            "Epoch 10/50\n",
            "64/64 [==============================] - 0s 2ms/step - loss: 4881.4277 - mean_absolute_error: 32.9662\n",
            "Epoch 11/50\n",
            "64/64 [==============================] - 0s 2ms/step - loss: 4865.4644 - mean_absolute_error: 33.0082\n",
            "Epoch 12/50\n",
            "64/64 [==============================] - 0s 2ms/step - loss: 4837.5664 - mean_absolute_error: 32.8957\n",
            "Epoch 13/50\n",
            "64/64 [==============================] - 0s 2ms/step - loss: 4816.7656 - mean_absolute_error: 32.7413\n",
            "Epoch 14/50\n",
            "64/64 [==============================] - 0s 2ms/step - loss: 4797.9038 - mean_absolute_error: 32.6833\n",
            "Epoch 15/50\n",
            "64/64 [==============================] - 0s 2ms/step - loss: 4781.0146 - mean_absolute_error: 32.4906\n",
            "Epoch 16/50\n",
            "64/64 [==============================] - 0s 2ms/step - loss: 4770.6206 - mean_absolute_error: 32.5709\n",
            "Epoch 17/50\n",
            "64/64 [==============================] - 0s 2ms/step - loss: 4752.6367 - mean_absolute_error: 32.4520\n",
            "Epoch 18/50\n",
            "64/64 [==============================] - 0s 2ms/step - loss: 4737.2041 - mean_absolute_error: 33.0350\n",
            "Epoch 19/50\n",
            "64/64 [==============================] - 0s 2ms/step - loss: 4729.8682 - mean_absolute_error: 32.4973\n",
            "Epoch 20/50\n",
            "64/64 [==============================] - 0s 2ms/step - loss: 4728.4097 - mean_absolute_error: 32.3616\n",
            "Epoch 21/50\n",
            "64/64 [==============================] - 0s 2ms/step - loss: 4717.2969 - mean_absolute_error: 32.3642\n",
            "Epoch 22/50\n",
            "64/64 [==============================] - 0s 2ms/step - loss: 4714.0957 - mean_absolute_error: 32.5233\n",
            "Epoch 23/50\n",
            "64/64 [==============================] - 0s 2ms/step - loss: 4700.0659 - mean_absolute_error: 32.5283\n",
            "Epoch 24/50\n",
            "64/64 [==============================] - 0s 2ms/step - loss: 4693.9375 - mean_absolute_error: 32.3555\n",
            "Epoch 25/50\n",
            "64/64 [==============================] - 0s 2ms/step - loss: 4685.8647 - mean_absolute_error: 32.4264\n",
            "Epoch 26/50\n",
            "64/64 [==============================] - 0s 2ms/step - loss: 4680.9238 - mean_absolute_error: 32.7849\n",
            "Epoch 27/50\n",
            "64/64 [==============================] - 0s 2ms/step - loss: 4650.7026 - mean_absolute_error: 32.7471\n",
            "Epoch 28/50\n",
            "64/64 [==============================] - 0s 2ms/step - loss: 4678.0591 - mean_absolute_error: 32.0107\n",
            "Epoch 29/50\n",
            "64/64 [==============================] - 0s 2ms/step - loss: 4653.0962 - mean_absolute_error: 32.5653\n",
            "Epoch 30/50\n",
            "64/64 [==============================] - 0s 2ms/step - loss: 4648.3608 - mean_absolute_error: 31.9490\n",
            "Epoch 31/50\n",
            "64/64 [==============================] - 0s 2ms/step - loss: 4644.5508 - mean_absolute_error: 32.5084\n",
            "Epoch 32/50\n",
            "64/64 [==============================] - 0s 1ms/step - loss: 4639.5557 - mean_absolute_error: 32.3916\n",
            "Epoch 33/50\n",
            "64/64 [==============================] - 0s 2ms/step - loss: 4630.5469 - mean_absolute_error: 32.4253\n",
            "Epoch 34/50\n",
            "64/64 [==============================] - 0s 2ms/step - loss: 4636.3931 - mean_absolute_error: 32.1223\n",
            "Epoch 35/50\n",
            "64/64 [==============================] - 0s 2ms/step - loss: 4628.4224 - mean_absolute_error: 31.9894\n",
            "Epoch 36/50\n",
            "64/64 [==============================] - 0s 2ms/step - loss: 4625.0410 - mean_absolute_error: 32.0827\n",
            "Epoch 37/50\n",
            "64/64 [==============================] - 0s 2ms/step - loss: 4616.7300 - mean_absolute_error: 32.2714\n",
            "Epoch 38/50\n",
            "64/64 [==============================] - 0s 2ms/step - loss: 4609.9888 - mean_absolute_error: 32.2481\n",
            "Epoch 39/50\n",
            "64/64 [==============================] - 0s 2ms/step - loss: 4605.7261 - mean_absolute_error: 32.0322\n",
            "Epoch 40/50\n",
            "64/64 [==============================] - 0s 2ms/step - loss: 4591.8447 - mean_absolute_error: 32.2672\n",
            "Epoch 41/50\n",
            "64/64 [==============================] - 0s 2ms/step - loss: 4593.1040 - mean_absolute_error: 31.9766\n",
            "Epoch 42/50\n",
            "64/64 [==============================] - 0s 2ms/step - loss: 4585.4399 - mean_absolute_error: 31.9826\n",
            "Epoch 43/50\n",
            "64/64 [==============================] - 0s 2ms/step - loss: 4581.6284 - mean_absolute_error: 32.0723\n",
            "Epoch 44/50\n",
            "64/64 [==============================] - 0s 2ms/step - loss: 4589.5015 - mean_absolute_error: 31.5828\n",
            "Epoch 45/50\n",
            "64/64 [==============================] - 0s 2ms/step - loss: 4564.2227 - mean_absolute_error: 32.1622\n",
            "Epoch 46/50\n",
            "64/64 [==============================] - 0s 2ms/step - loss: 4558.9233 - mean_absolute_error: 32.4362\n",
            "Epoch 47/50\n",
            "64/64 [==============================] - 0s 2ms/step - loss: 4568.4653 - mean_absolute_error: 31.8024\n",
            "Epoch 48/50\n",
            "64/64 [==============================] - 0s 2ms/step - loss: 4555.2222 - mean_absolute_error: 32.0178\n",
            "Epoch 49/50\n",
            "64/64 [==============================] - 0s 2ms/step - loss: 4558.4214 - mean_absolute_error: 31.8497\n",
            "Epoch 50/50\n",
            "64/64 [==============================] - 0s 2ms/step - loss: 4551.4482 - mean_absolute_error: 31.9389\n",
            "16/16 [==============================] - 0s 2ms/step\n",
            "R^2: 0.4203486918501672\n",
            "MSE: 2741.3805141614407\n"
          ]
        }
      ]
    },
    {
      "cell_type": "code",
      "source": [
        "# definir el nuevo dato de entrada\n",
        "nuevo_dato = pd.DataFrame({'Kimc': [3],\n",
        "                           'Estrellas': [4],\n",
        "                           'M^2': [50],\n",
        "                           'Resenas': [0],\n",
        "                           'Parking': [0],\n",
        "                           'Aire': [1],\n",
        "                           'Piscina': [1],\n",
        "                           'Terraza': [1],\n",
        "                           'Wifi': [1],\n",
        "                           'Punto de interés': [6.8],\n",
        "                           'Tipo de cama': [0],\n",
        "                           'Ciudad': [82]})\n",
        "\n",
        "# escalar las características numéricas del nuevo dato\n",
        "numeric_features = ['M^2', 'Estrellas', 'Punto de interés']\n",
        "scaler = StandardScaler()\n",
        "nuevo_dato[numeric_features] = scaler.fit_transform(nuevo_dato[numeric_features])\n",
        "\n",
        "# preprocesar el nuevo dato con ColumnTransformer\n",
        "nuevo_dato = preprocessor.transform(nuevo_dato)\n",
        "\n",
        "# hacer una predicción con el modelo entrenado\n",
        "prediccion = model.predict(nuevo_dato)\n",
        "\n",
        "# imprimir la predicción\n",
        "print('Precio predicho para el nuevo dato:', prediccion[0][0])"
      ],
      "metadata": {
        "colab": {
          "base_uri": "https://localhost:8080/"
        },
        "id": "uiw1ZsP7DfVC",
        "outputId": "25148e04-98eb-424e-d828-2b44739ae56a"
      },
      "execution_count": 126,
      "outputs": [
        {
          "output_type": "stream",
          "name": "stdout",
          "text": [
            "1/1 [==============================] - 0s 31ms/step\n",
            "Precio predicho para el nuevo dato: 106.06074\n"
          ]
        }
      ]
    },
    {
      "cell_type": "markdown",
      "source": [
        "##Elección del mejor modelo\n",
        "\n"
      ],
      "metadata": {
        "id": "I2m_4mY-lTq2"
      }
    },
    {
      "cell_type": "markdown",
      "source": [
        "Para la elección del mejor modelo se ha decidido hacer en base al R-cuadrado esta es una medida estadística que representa la proporción de la varianza de la variable dependiente que se explica por la variable independiente en un modelo de regresión. Es decir, R^2 mide qué tan bien los puntos de datos se ajustan a la línea de regresión ajustada.\n",
        "\n",
        "El mejor modelo es aquél que utiliza el algoritmo de XGBoost. Este es un algoritmo de aprendizaje supervisado basado en generar múltiples modelos secuenciales de predicción “sencilla”, y cada nuevo modelo toma el resultado del modelo anterior, haciendo que los resultados obtenidos en cada secuencia sean cada vez más “robustos”, y por tanto, obteniendo en cada iteración resultados más exactos. Este modelo nos proporciona un R^2 del casi 50%. \n",
        "\n",
        "\n",
        "Aunque el mejor R-cuadrado sea el del algoritmo de XGBoost, mencionamos al algoritmo que se utiliza para la realización del segundo modelo. Este sigue la función PolynomialFeatures que como se ha comentado, se utiliza para generar nuevas características polinomiales a partir de las características originales de un conjunto de datos."
      ],
      "metadata": {
        "id": "IqW0rmxJpTQq"
      }
    }
  ]
}